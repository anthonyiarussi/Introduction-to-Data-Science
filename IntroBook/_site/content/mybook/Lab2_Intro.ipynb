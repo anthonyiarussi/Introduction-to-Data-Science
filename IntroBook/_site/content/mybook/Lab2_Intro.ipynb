{
 "cells": [
  {
   "cell_type": "markdown",
   "metadata": {
    "collapsed": true
   },
   "source": [
    "In this chapter you will learn to work with vectors. Vectors are a foundational part of basic R coding and an excellent way of tracking data. In this lab, you will learn how to add, subtract, manipulate, and pull information from vectors. "
   ]
  },
  {
   "cell_type": "markdown",
   "metadata": {},
   "source": [
    "For more on vectors in R, follow the <a href=\"https://r4ds.had.co.nz/vectors.html\" target=\"_blank\">link</a>.\n",
    "<hr>"
   ]
  }
 ],
 "metadata": {
  "kernelspec": {
   "display_name": "R",
   "language": "R",
   "name": "ir"
  },
  "language_info": {
   "codemirror_mode": "r",
   "file_extension": ".r",
   "mimetype": "text/x-r-source",
   "name": "R",
   "pygments_lexer": "r",
   "version": "3.3.2"
  }
 },
 "nbformat": 4,
 "nbformat_minor": 0
}
