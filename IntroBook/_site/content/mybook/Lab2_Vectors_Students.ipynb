{
 "cells": [
  {
   "cell_type": "markdown",
   "metadata": {},
   "source": [
    "# Vectors"
   ]
  },
  {
   "cell_type": "markdown",
   "metadata": {},
   "source": [
    "Congratulations on starting your very own landscaping company!"
   ]
  },
  {
   "cell_type": "markdown",
   "metadata": {},
   "source": [
    "Thanks to R and your new data-analytical skills, you will learn how to uplift your profits and fire off your career like a true professional. This chapter will show how you can easily keep track of your profits and how you can do some simple analyses on past actions. Next stop, .... self made!!"
   ]
  },
  {
   "cell_type": "markdown",
   "metadata": {},
   "source": [
    "#### Question 1"
   ]
  },
  {
   "cell_type": "markdown",
   "metadata": {},
   "source": [
    "Do you still remember what you have learned in the first chapter? Assign the value `\"Go!\"` to the variable `Lets_get_started`. Remember: R is case sensitive!\n",
    "- Note: Just type the following line: Lets_get_started <- \"Go!\""
   ]
  },
  {
   "cell_type": "code",
   "execution_count": 39,
   "metadata": {
    "autoscroll": false,
    "collapsed": true
   },
   "outputs": [],
   "source": [
    "#your code here\n"
   ]
  },
  {
   "cell_type": "markdown",
   "metadata": {},
   "source": [
    "# Problem 1"
   ]
  },
  {
   "cell_type": "markdown",
   "metadata": {},
   "source": [
    "In this problem we are going to work on naming vectors. Let us focus first!"
   ]
  },
  {
   "cell_type": "markdown",
   "metadata": {},
   "source": [
    "On your way to riches, you will make extensive use of vectors. Vectors are one-dimension arrays that can hold numeric data, character data, or logical data. In other words, a vector is a simple tool to store data. For example, you can store your daily gains and losses in the casinos."
   ]
  },
  {
   "cell_type": "markdown",
   "metadata": {},
   "source": [
    "#### Instructions"
   ]
  },
  {
   "cell_type": "markdown",
   "metadata": {},
   "source": [
    "In R, you create a vector with the combine function [`c()`](http://www.rdocumentation.org/packages/base/functions/c). You place the vector elements separated by a comma between the parentheses. For example:\n",
    "- Note: you can use either the '=' or '<-' operator to assign values to a variable, for this lab we will be using the '<-' operator."
   ]
  },
  {
   "cell_type": "code",
   "execution_count": 40,
   "metadata": {
    "collapsed": false
   },
   "outputs": [
    {
     "name": "stdout",
     "output_type": "stream",
     "text": [
      "[1]  1 10 49\n",
      "[1] \"a\" \"b\" \"c\"\n"
     ]
    }
   ],
   "source": [
    "#Example\n",
    "\n",
    "numeric_vector = c(1, 10, 49)\n",
    "character_vector <- c(\"a\", \"b\", \"c\")\n",
    "print(numeric_vector)\n",
    "print(character_vector)"
   ]
  },
  {
   "cell_type": "markdown",
   "metadata": {},
   "source": [
    "Once you have created these vectors in R, you can use them to do calculations."
   ]
  },
  {
   "cell_type": "markdown",
   "metadata": {},
   "source": [
    "#### Question 1"
   ]
  },
  {
   "cell_type": "markdown",
   "metadata": {},
   "source": [
    "Complete the code such that `boolean_vector` contains the three elements: `TRUE`, `FALSE` and `TRUE` (in that order).\n",
    "- Note: Assign c(TRUE, FALSE, TRUE) to the variable boolean_vector with the <- operator."
   ]
  },
  {
   "cell_type": "code",
   "execution_count": 41,
   "metadata": {
    "autoscroll": false,
    "collapsed": false
   },
   "outputs": [],
   "source": [
    "#your code here\n"
   ]
  },
  {
   "cell_type": "markdown",
   "metadata": {},
   "source": [
    "# Problem 2"
   ]
  },
  {
   "cell_type": "markdown",
   "metadata": {},
   "source": [
    "After six months of work and still zero Ferraris in your garage, you decide that it is time to start using your data analytical superpowers."
   ]
  },
  {
   "cell_type": "markdown",
   "metadata": {},
   "source": [
    "You don't know whether to focus on mulching or cutting grass, so you decide to track profit and loss tied to each seperately over the next six months, from March to August. \n",
    "\n",
    "For `mulch_vector`:\n",
    "\n",
    "- March: Profit 85\n",
    "- April: Profit 200\n",
    "- May: Profit 225\n",
    "- June: Loss 100\n",
    "- July: Profit 40\n",
    "- August: Loss 60\n",
    "\n",
    "For `grasscut_vector`:\n",
    "\n",
    "- March: Profit 150\n",
    "- April: Loss 30\n",
    "- May: Profit 170\n",
    "- June: Loss 90\n",
    "- July: Loss 50\n",
    "- August: Profit 225\n",
    "\n",
    "To be able to use this data in R, you decide to create the variables `mulch_vector` and `grasscut_vector`"
   ]
  },
  {
   "cell_type": "markdown",
   "metadata": {},
   "source": [
    "#### Instructions"
   ]
  },
  {
   "cell_type": "markdown",
   "metadata": {},
   "source": [
    "Assigned below is the profits/losses for mulching to the variable `mulch_vector`."
   ]
  },
  {
   "cell_type": "code",
   "execution_count": 42,
   "metadata": {
    "autoscroll": false,
    "collapsed": true
   },
   "outputs": [],
   "source": [
    "# Mulching Profit/Losses from March to August\n",
    "mulch_vector <- c(85, 200, 225, -100, 40, -60)"
   ]
  },
  {
   "cell_type": "markdown",
   "metadata": {},
   "source": [
    "#### Question 1"
   ]
  },
  {
   "cell_type": "markdown",
   "metadata": {},
   "source": [
    "Assign the profits/losses for grass cutting to the variable `grasscut_vector`."
   ]
  },
  {
   "cell_type": "code",
   "execution_count": 43,
   "metadata": {
    "collapsed": true
   },
   "outputs": [],
   "source": [
    "# Grass cutting Profit/Losses from March to August\n",
    "\n",
    "#your code here"
   ]
  },
  {
   "cell_type": "markdown",
   "metadata": {},
   "source": [
    "# Problem 3\n",
    "\n",
    "Problem 3 deals with naming vectors. \n",
    "\n",
    "As a data analyst, it is important to have a clear view on the data that you are using. Understanding what each element refers to is therefore essential.\n",
    "\n",
    "In the previous exercise, we created a vector profits/losses over the last 6 months. Each vector element refers to a month of the year but it is hard to tell which element belongs to which month. It would be nice if you could show that in the vector itself.\n",
    "\n",
    "You can give a name to the elements of a vector with the `names()` function. Have a look at this example:\n",
    "\n",
    "```\n",
    "some_vector <- c(\"John Doe\", \"Landscaper\")\n",
    "names(some_vector) <- c(\"Name\", \"Profession\")\n",
    "```\n",
    "\n",
    "This code first creates a vector `some_vector` and then gives the two elements a name. The first element is assigned the name `Name`, while the second element is labeled `Profession`. Printing the contents to the console yields following output:\n",
    "\n",
    "```\n",
    "          Name     Profession\n",
    "    \"John Doe\"  \"Landscaper\"\n",
    "```"
   ]
  },
  {
   "cell_type": "markdown",
   "metadata": {},
   "source": [
    "#### Instructions"
   ]
  },
  {
   "cell_type": "markdown",
   "metadata": {},
   "source": [
    "The code below names the elements in mulch_vector with the six months\n",
    "- Note: Make sure to use the same vector with the months as names. Remember that R is case sensitive!"
   ]
  },
  {
   "cell_type": "code",
   "execution_count": 44,
   "metadata": {
    "autoscroll": false,
    "collapsed": false
   },
   "outputs": [
    {
     "name": "stdout",
     "output_type": "stream",
     "text": [
      " March  April    May   June   July August \n",
      "    85    200    225   -100     40    -60 \n"
     ]
    }
   ],
   "source": [
    "# Mulching Profit/Losses from March to August\n",
    "mulch_vector <- c(85, 200, 225, -100, 40, -60)\n",
    "\n",
    "# Assign months as names of the mulch_vector\n",
    "names(mulch_vector) <- c(\"March\", \"April\", \"May\", \"June\", \"July\", 'August')\n",
    "print(mulch_vector)"
   ]
  },
  {
   "cell_type": "markdown",
   "metadata": {},
   "source": [
    " #### Question 1"
   ]
  },
  {
   "cell_type": "markdown",
   "metadata": {},
   "source": [
    "On your own produce code that names the elements in the grasscut_vector with the six months. Then print the variable grasscut_vector in order to verify you have named the vector correctly. "
   ]
  },
  {
   "cell_type": "code",
   "execution_count": 45,
   "metadata": {
    "collapsed": true
   },
   "outputs": [],
   "source": [
    "#your code here\n"
   ]
  },
  {
   "cell_type": "markdown",
   "metadata": {},
   "source": [
    "If you want to become a good statistician, you have to become lazy. (If you are already lazy, chances are high you are one of those exceptional, natural-born statistical talents.)\n",
    "\n",
    "In the previous exercises you probably experienced that it is boring and frustrating to type and retype information such as the months of the year. However, when you look at it from a higher perspective, there is a more efficient way to do this, namely, to assign the months vector to a **variable**!\n",
    "\n",
    "Just like you did with your mulching and grass cutting profits/losses, you can also create a variable that contains the months of interest. This way you can use and re-use it."
   ]
  },
  {
   "cell_type": "markdown",
   "metadata": {},
   "source": [
    "#### Instructions "
   ]
  },
  {
   "cell_type": "markdown",
   "metadata": {},
   "source": [
    "The code below creates a variable months_vector that contains the months of interest."
   ]
  },
  {
   "cell_type": "code",
   "execution_count": 46,
   "metadata": {
    "collapsed": true
   },
   "outputs": [],
   "source": [
    "#The variable months_vector\n",
    "months_vector <- c(\"March\", \"April\", \"May\", \"June\", \"July\", 'August')"
   ]
  },
  {
   "cell_type": "markdown",
   "metadata": {},
   "source": [
    "The months_vector is used to more efficiently name the mulch_vector."
   ]
  },
  {
   "cell_type": "code",
   "execution_count": 47,
   "metadata": {
    "collapsed": false
   },
   "outputs": [
    {
     "name": "stdout",
     "output_type": "stream",
     "text": [
      " March  April    May   June   July August \n",
      "    85    200    225   -100     40    -60 \n"
     ]
    }
   ],
   "source": [
    "names(mulch_vector) <- months_vector\n",
    "print(mulch_vector)"
   ]
  },
  {
   "cell_type": "markdown",
   "metadata": {},
   "source": [
    "#### Question 2"
   ]
  },
  {
   "cell_type": "markdown",
   "metadata": {},
   "source": [
    "On your own use the months_vector to give names to the grasscut_vector. Then print the variable grasscut_vector in order to verify you have named the vector correctly. "
   ]
  },
  {
   "cell_type": "code",
   "execution_count": 48,
   "metadata": {
    "collapsed": true
   },
   "outputs": [],
   "source": [
    "#your code here\n"
   ]
  },
  {
   "cell_type": "markdown",
   "metadata": {},
   "source": [
    "# Problem 4\n",
    "\n",
    "\n",
    "Now that you have the mulching and grass cutting profits/losses as named vectors, you can start doing some data analytical magic.\n",
    "\n",
    "You want to find out the following type of information:\n",
    "\n",
    "- How much has been your overall profit or loss per month over the past six months?\n",
    "- Have you lost money over the 6 months in total?\n",
    "- Which is more profitable mulching or grass cutting?\n",
    "\n",
    "To get the answers, you have to do arithmetic calculations on vectors."
   ]
  },
  {
   "cell_type": "markdown",
   "metadata": {},
   "source": [
    "#### Instructions"
   ]
  },
  {
   "cell_type": "markdown",
   "metadata": {},
   "source": [
    "It is important to know that if you sum two vectors in R, it takes the element-wise sum. For example, the following three statements are completely equivalent."
   ]
  },
  {
   "cell_type": "code",
   "execution_count": 49,
   "metadata": {
    "collapsed": false
   },
   "outputs": [
    {
     "data": {
      "text/html": [
       "<ol class=list-inline>\n",
       "\t<li>5</li>\n",
       "\t<li>7</li>\n",
       "\t<li>9</li>\n",
       "</ol>\n"
      ],
      "text/latex": [
       "\\begin{enumerate*}\n",
       "\\item 5\n",
       "\\item 7\n",
       "\\item 9\n",
       "\\end{enumerate*}\n"
      ],
      "text/markdown": [
       "1. 5\n",
       "2. 7\n",
       "3. 9\n",
       "\n",
       "\n"
      ],
      "text/plain": [
       "[1] 5 7 9"
      ]
     },
     "metadata": {},
     "output_type": "display_data"
    }
   ],
   "source": [
    "c(1, 2, 3) + c(4, 5, 6)"
   ]
  },
  {
   "cell_type": "code",
   "execution_count": 50,
   "metadata": {
    "collapsed": false
   },
   "outputs": [
    {
     "data": {
      "text/html": [
       "<ol class=list-inline>\n",
       "\t<li>5</li>\n",
       "\t<li>7</li>\n",
       "\t<li>9</li>\n",
       "</ol>\n"
      ],
      "text/latex": [
       "\\begin{enumerate*}\n",
       "\\item 5\n",
       "\\item 7\n",
       "\\item 9\n",
       "\\end{enumerate*}\n"
      ],
      "text/markdown": [
       "1. 5\n",
       "2. 7\n",
       "3. 9\n",
       "\n",
       "\n"
      ],
      "text/plain": [
       "[1] 5 7 9"
      ]
     },
     "metadata": {},
     "output_type": "display_data"
    }
   ],
   "source": [
    "c(1 + 4, 2 + 5, 3 + 6)"
   ]
  },
  {
   "cell_type": "markdown",
   "metadata": {},
   "source": [
    "You can also do the calculations with variables that represent vectors.\n",
    "- Note: Below the sum of vectors a and b were taken and assigned to the c vector. "
   ]
  },
  {
   "cell_type": "code",
   "execution_count": 51,
   "metadata": {
    "collapsed": false
   },
   "outputs": [
    {
     "data": {
      "text/html": [
       "<ol class=list-inline>\n",
       "\t<li>5</li>\n",
       "\t<li>7</li>\n",
       "\t<li>9</li>\n",
       "</ol>\n"
      ],
      "text/latex": [
       "\\begin{enumerate*}\n",
       "\\item 5\n",
       "\\item 7\n",
       "\\item 9\n",
       "\\end{enumerate*}\n"
      ],
      "text/markdown": [
       "1. 5\n",
       "2. 7\n",
       "3. 9\n",
       "\n",
       "\n"
      ],
      "text/plain": [
       "[1] 5 7 9"
      ]
     },
     "metadata": {},
     "output_type": "display_data"
    }
   ],
   "source": [
    "a <- c(1, 2, 3)\n",
    "b <- c(4, 5, 6)\n",
    "c <- a + b\n",
    "c"
   ]
  },
  {
   "cell_type": "markdown",
   "metadata": {
    "autoscroll": false,
    "collapsed": true
   },
   "source": [
    "#### Question 1"
   ]
  },
  {
   "cell_type": "markdown",
   "metadata": {},
   "source": [
    "Take the sum of the variables A_vector and B_vector and assign it to total_vector. Inspect the result by printing out total_vector."
   ]
  },
  {
   "cell_type": "code",
   "execution_count": 52,
   "metadata": {
    "autoscroll": false,
    "collapsed": true
   },
   "outputs": [],
   "source": [
    "A_vector <- c(1, 2, 3)\n",
    "B_vector <- c(4, 5, 6)"
   ]
  },
  {
   "cell_type": "code",
   "execution_count": 53,
   "metadata": {
    "collapsed": true
   },
   "outputs": [],
   "source": [
    "#your code here\n"
   ]
  },
  {
   "cell_type": "markdown",
   "metadata": {},
   "source": [
    "Now you understand how R does arithmetic with vectors, it is time to get those Ferraris in your garage! First, you need to understand what the overall profit or loss per month was. The total six month profit/loss is the sum of the profit/loss you realized on mulching per month, and the profit/loss you realized on grass cutting per month.\n",
    "\n",
    "In R, this is just the sum of `grasscut_vector` and `mulch_vector`."
   ]
  },
  {
   "cell_type": "markdown",
   "metadata": {},
   "source": [
    "#### Question 2"
   ]
  },
  {
   "cell_type": "markdown",
   "metadata": {
    "autoscroll": false,
    "collapsed": true
   },
   "source": [
    "Assign to the variable `total_monthly` how much you profited or lost in total (mulching and grass cutting combined). Print out the total_monthly variable to view the monthly results.\n",
    "- Note: Similar to the previous exercise, assign the sum of two vectors to a new variable, `total_monthly`."
   ]
  },
  {
   "cell_type": "code",
   "execution_count": 54,
   "metadata": {
    "collapsed": true
   },
   "outputs": [],
   "source": [
    "#your solution here\n"
   ]
  },
  {
   "cell_type": "markdown",
   "metadata": {},
   "source": [
    "#### Question 3"
   ]
  },
  {
   "cell_type": "markdown",
   "metadata": {},
   "source": [
    "In which month were you the most profitable, which month did you take the biggest loss? "
   ]
  },
  {
   "cell_type": "code",
   "execution_count": 55,
   "metadata": {
    "collapsed": true
   },
   "outputs": [],
   "source": [
    "#Month of Most Profit\n",
    "\n",
    "#Month of Most lost\n"
   ]
  },
  {
   "cell_type": "markdown",
   "metadata": {},
   "source": [
    "# Problem 5\n",
    "\n",
    "Based on the previous analysis, it looks like you had a mix of good and bad months. But how did you over the 6 months in total and for each type of work?\n",
    "\n",
    "A function that helps you to answer this question is [`sum()`](http://www.rdocumentation.org/packages/base/functions/sum). It calculates the sum of all elements of a vector."
   ]
  },
  {
   "cell_type": "markdown",
   "metadata": {},
   "source": [
    "#### Instructions "
   ]
  },
  {
   "cell_type": "markdown",
   "metadata": {},
   "source": [
    "The sum() function below calculates the total amount of money you have profited or lost in mulching over the 6 months and places it in a new variable called total_mulch."
   ]
  },
  {
   "cell_type": "code",
   "execution_count": 56,
   "metadata": {
    "collapsed": false
   },
   "outputs": [
    {
     "data": {
      "text/html": [
       "390"
      ],
      "text/latex": [
       "390"
      ],
      "text/markdown": [
       "390"
      ],
      "text/plain": [
       "[1] 390"
      ]
     },
     "metadata": {},
     "output_type": "display_data"
    }
   ],
   "source": [
    "total_mulch <- sum(mulch_vector)\n",
    "total_mulch"
   ]
  },
  {
   "cell_type": "markdown",
   "metadata": {},
   "source": [
    "Wow! Over the six months you profited $390 mulching congratulations!"
   ]
  },
  {
   "cell_type": "markdown",
   "metadata": {
    "autoscroll": false,
    "collapsed": true
   },
   "source": [
    "#### Question 1"
   ]
  },
  {
   "cell_type": "markdown",
   "metadata": {},
   "source": [
    "Calculate the total amount of money that you have profited and lost in grass cutting and assign to the variable total_grasscut. Then print out total_grasscut and comment on if you either profited or lost over the 6 months cutting grass and how much."
   ]
  },
  {
   "cell_type": "code",
   "execution_count": 57,
   "metadata": {
    "autoscroll": false,
    "collapsed": true
   },
   "outputs": [],
   "source": [
    "#your code here\n",
    "\n",
    "#Comment... did you profit? If so, how much?\n"
   ]
  },
  {
   "cell_type": "markdown",
   "metadata": {},
   "source": [
    "#### Question 2"
   ]
  },
  {
   "cell_type": "markdown",
   "metadata": {},
   "source": [
    "Now that you have the totals for grass cutting and mulching, you can easily calculate total_6months (which is the sum of all the profits of the 6 months). Print out total_6months and comment on your results."
   ]
  },
  {
   "cell_type": "code",
   "execution_count": 58,
   "metadata": {
    "collapsed": true
   },
   "outputs": [],
   "source": [
    "#your code here\n",
    "\n",
    "#Comment... did you profit? If so, how much?\n"
   ]
  },
  {
   "cell_type": "markdown",
   "metadata": {},
   "source": [
    "A quick way to analyze which method of landscaping is more profitable is to use a boolean statement that returns a logical value (`TRUE` or `FALSE`). "
   ]
  },
  {
   "cell_type": "markdown",
   "metadata": {
    "autoscroll": false,
    "collapsed": true
   },
   "source": [
    "#### Instructions"
   ]
  },
  {
   "cell_type": "markdown",
   "metadata": {},
   "source": [
    "To check if 6 is larger than 5, you type `6 > 5`. "
   ]
  },
  {
   "cell_type": "code",
   "execution_count": 59,
   "metadata": {
    "collapsed": false
   },
   "outputs": [
    {
     "data": {
      "text/html": [
       "TRUE"
      ],
      "text/latex": [
       "TRUE"
      ],
      "text/markdown": [
       "TRUE"
      ],
      "text/plain": [
       "[1] TRUE"
      ]
     },
     "metadata": {},
     "output_type": "display_data"
    }
   ],
   "source": [
    "6 > 5"
   ]
  },
  {
   "cell_type": "markdown",
   "metadata": {},
   "source": [
    "As you can see, 6 is obviously greater than 5 so the statement reads TRUE. "
   ]
  },
  {
   "cell_type": "markdown",
   "metadata": {},
   "source": [
    "#### Question 3"
   ]
  },
  {
   "cell_type": "markdown",
   "metadata": {},
   "source": [
    "Check if your total profits in mulching are higher than for grass cutting by using a comparison. Simply print out the result of this comparison. What do you conclude, should you focus on mulching or grass cutting?\n",
    "- Note: The output of your answer should either read TRUE or FALSE. "
   ]
  },
  {
   "cell_type": "code",
   "execution_count": 60,
   "metadata": {
    "autoscroll": false,
    "collapsed": true
   },
   "outputs": [],
   "source": [
    "#your code here\n",
    "\n",
    "#conclusion here\n"
   ]
  },
  {
   "cell_type": "markdown",
   "metadata": {},
   "source": [
    "# Problem 6\n",
    "\n",
    "It appears that mulching is more your cup of tea than cutting grass.\n",
    "\n",
    "Another possible route for investigation is your performance at the first month compared to the performance of the last month. \n",
    "\n",
    "To answer that question, you only want to focus on a selection of the `total_vector`. In other words, our goal is to select specific elements of the vector. To select elements of a vector (and later matrices, data frames, ...), you can use square brackets. Between the square brackets, you indicate what elements to select. For example, to select the first element of the vector, you type `mulch_vector[1]`. To select the second element of the vector, you type `mulch_vector[2]`, etc. Notice that the first element in a vector has index 1, not 0 as in many other programming languages."
   ]
  },
  {
   "cell_type": "markdown",
   "metadata": {
    "autoscroll": false,
    "collapsed": true
   },
   "source": [
    "#### Instructions"
   ]
  },
  {
   "cell_type": "markdown",
   "metadata": {},
   "source": [
    "The code below will select the profit/loss from August from the mulch vector. Saving it to a new variable mulch_August."
   ]
  },
  {
   "cell_type": "code",
   "execution_count": 61,
   "metadata": {
    "collapsed": false
   },
   "outputs": [
    {
     "name": "stdout",
     "output_type": "stream",
     "text": [
      "August \n",
      "   -60 \n"
     ]
    }
   ],
   "source": [
    "mulch_August <- mulch_vector[6]\n",
    "print(mulch_August)"
   ]
  },
  {
   "cell_type": "markdown",
   "metadata": {},
   "source": [
    "#### Question 1"
   ]
  },
  {
   "cell_type": "markdown",
   "metadata": {},
   "source": [
    "Assign the mulching results of May to the variable mulch_May. Print mulch_May.\n",
    "- Note: May is the third element of mulch_vector."
   ]
  },
  {
   "cell_type": "code",
   "execution_count": 62,
   "metadata": {
    "collapsed": true
   },
   "outputs": [],
   "source": [
    "#your code here\n"
   ]
  },
  {
   "cell_type": "markdown",
   "metadata": {
    "autoscroll": false,
    "collapsed": true
   },
   "source": [
    "#### Instructions "
   ]
  },
  {
   "cell_type": "markdown",
   "metadata": {},
   "source": [
    "To select multiple elements from a vector, you can add square brackets at the end of it. You can indicate between the brackets what elements should be selected. For example: suppose you want to select the first and the fifth day of the week: use the vector `c(1, 5)` between the square brackets. For example, the code below selects the first and fifth element of `mulch_vector`."
   ]
  },
  {
   "cell_type": "code",
   "execution_count": 63,
   "metadata": {
    "collapsed": false
   },
   "outputs": [
    {
     "name": "stdout",
     "output_type": "stream",
     "text": [
      "March  July \n",
      "   85    40 \n"
     ]
    }
   ],
   "source": [
    "print(mulch_vector[c(1, 5)])"
   ]
  },
  {
   "cell_type": "markdown",
   "metadata": {},
   "source": [
    "How about analyzing your summer mulching results?"
   ]
  },
  {
   "cell_type": "markdown",
   "metadata": {},
   "source": [
    "#### Question 2"
   ]
  },
  {
   "cell_type": "markdown",
   "metadata": {},
   "source": [
    "Assign the mulching results of June, July, and August to the variable `mulch_summer`."
   ]
  },
  {
   "cell_type": "code",
   "execution_count": 64,
   "metadata": {
    "collapsed": true
   },
   "outputs": [],
   "source": [
    "#your code here\n"
   ]
  },
  {
   "cell_type": "markdown",
   "metadata": {},
   "source": [
    "#### Question 3"
   ]
  },
  {
   "cell_type": "markdown",
   "metadata": {},
   "source": [
    "Use the sum() function to figure out how much you profited or lost mulching during the summer months. "
   ]
  },
  {
   "cell_type": "code",
   "execution_count": 65,
   "metadata": {
    "collapsed": true
   },
   "outputs": [],
   "source": [
    "#your code here\n",
    "\n",
    "#Did you profit in the summer months mulching? If so, how much? If not, how much did you lose?\n"
   ]
  },
  {
   "cell_type": "markdown",
   "metadata": {},
   "source": [
    "Selecting multiple elements of `mulch_vector` with `c(4, 5, 6)` is not very convenient. Many statisticians are lazy people by nature, so they created an easier way to do this: `c(4, 5, 6)` can be abbreviated to`4:6`, which generates a vector with all natural numbers from 4 up to 6."
   ]
  },
  {
   "cell_type": "markdown",
   "metadata": {},
   "source": [
    "#### Instructions "
   ]
  },
  {
   "cell_type": "markdown",
   "metadata": {},
   "source": [
    "So, another way to find the summer results is `mulch_vector[4:6]`. Notice how the vector `4:6` is placed between the square brackets to select element 4 up to 6."
   ]
  },
  {
   "cell_type": "code",
   "execution_count": 66,
   "metadata": {
    "collapsed": false
   },
   "outputs": [
    {
     "name": "stdout",
     "output_type": "stream",
     "text": [
      "  June   July August \n",
      "  -100     40    -60 \n"
     ]
    }
   ],
   "source": [
    "mulch_summer <- mulch_vector[4:6]\n",
    "print(mulch_summer)"
   ]
  },
  {
   "cell_type": "markdown",
   "metadata": {},
   "source": [
    "#### Question 4"
   ]
  },
  {
   "cell_type": "markdown",
   "metadata": {},
   "source": [
    "Assign to `grasscut_selection_vector` the grass cutting results from April up to July; make use of `:` if it makes things easier for you. Print `grasscut_selection_vector` to check and make sure the new vector contains all the appropriate months. "
   ]
  },
  {
   "cell_type": "code",
   "execution_count": 67,
   "metadata": {
    "collapsed": true
   },
   "outputs": [],
   "source": [
    "#your code here\n"
   ]
  },
  {
   "cell_type": "markdown",
   "metadata": {},
   "source": [
    "Another way to tackle the previous exercise is by using the names of the vector elements (March, April, ...) instead of their numeric positions. For example,\n",
    "\n",
    "```\n",
    "mulch_vector[\"March\"]\n",
    "```\n",
    "\n",
    "will select the first element of `mulch_vector` since `\"March\"` is the name of that first element."
   ]
  },
  {
   "cell_type": "markdown",
   "metadata": {},
   "source": [
    "#### Instructions"
   ]
  },
  {
   "cell_type": "markdown",
   "metadata": {},
   "source": [
    "Just like you did in the previous exercise with numerics, you can also use the element names to select multiple elements, for example. The code below selects the months March and April from the mulch_vector."
   ]
  },
  {
   "cell_type": "code",
   "execution_count": 68,
   "metadata": {
    "autoscroll": false,
    "collapsed": false
   },
   "outputs": [
    {
     "name": "stdout",
     "output_type": "stream",
     "text": [
      "March April \n",
      "   85   200 \n"
     ]
    }
   ],
   "source": [
    "print(mulch_vector[c(\"March\",\"April\")])"
   ]
  },
  {
   "cell_type": "markdown",
   "metadata": {},
   "source": [
    "To find the average profit in these first two months use the [`mean()`](http://www.rdocumentation.org/packages/base/functions/mean) function as demonstrated below."
   ]
  },
  {
   "cell_type": "code",
   "execution_count": 69,
   "metadata": {
    "collapsed": false
   },
   "outputs": [
    {
     "data": {
      "text/html": [
       "142.5"
      ],
      "text/latex": [
       "142.5"
      ],
      "text/markdown": [
       "142.5"
      ],
      "text/plain": [
       "[1] 142.5"
      ]
     },
     "metadata": {},
     "output_type": "display_data"
    }
   ],
   "source": [
    "mean(mulch_vector[c(\"March\",\"April\")])"
   ]
  },
  {
   "cell_type": "markdown",
   "metadata": {},
   "source": [
    "The average profit for mulching in the first two months is $142.50. Increase sample size and add an extra month and to see if you get a different result. "
   ]
  },
  {
   "cell_type": "markdown",
   "metadata": {},
   "source": [
    "#### Question 5"
   ]
  },
  {
   "cell_type": "markdown",
   "metadata": {},
   "source": [
    "Select the first three elements in mulch_vector by using their names. Assign the result of the selection to `mulch_start`. Then use the mean() function to analyze the mulch_start vector."
   ]
  },
  {
   "cell_type": "code",
   "execution_count": 70,
   "metadata": {
    "collapsed": true
   },
   "outputs": [],
   "source": [
    "#your code here\n"
   ]
  },
  {
   "cell_type": "code",
   "execution_count": 71,
   "metadata": {
    "collapsed": true
   },
   "outputs": [],
   "source": [
    "#your code here\n",
    "\n",
    "#mean()"
   ]
  },
  {
   "cell_type": "markdown",
   "metadata": {},
   "source": [
    "# Problem 7\n",
    "\n",
    "\n",
    "By making use of comparison operators, we can approach the previous question in a more proactive way.\n",
    "\n",
    "The (logical) comparison operators known to R are:\n",
    "\n",
    "- `<` for less than\n",
    "- `>` for greater than\n",
    "- `<=` for less than or equal to\n",
    "- `>=` for greater than or equal to\n",
    "- `==` for equal to each other\n",
    "- `!=` not equal to each other"
   ]
  },
  {
   "cell_type": "markdown",
   "metadata": {},
   "source": [
    "#### Instructions"
   ]
  },
  {
   "cell_type": "markdown",
   "metadata": {
    "autoscroll": false,
    "collapsed": true
   },
   "source": [
    "As seen in the previous chapter, stating 6 > 5 returns TRUE. The nice thing about R is that you can use these comparison operators also on vectors."
   ]
  },
  {
   "cell_type": "code",
   "execution_count": 72,
   "metadata": {
    "collapsed": false
   },
   "outputs": [
    {
     "data": {
      "text/html": [
       "<ol class=list-inline>\n",
       "\t<li>FALSE</li>\n",
       "\t<li>FALSE</li>\n",
       "\t<li>TRUE</li>\n",
       "</ol>\n"
      ],
      "text/latex": [
       "\\begin{enumerate*}\n",
       "\\item FALSE\n",
       "\\item FALSE\n",
       "\\item TRUE\n",
       "\\end{enumerate*}\n"
      ],
      "text/markdown": [
       "1. FALSE\n",
       "2. FALSE\n",
       "3. TRUE\n",
       "\n",
       "\n"
      ],
      "text/plain": [
       "[1] FALSE FALSE  TRUE"
      ]
     },
     "metadata": {},
     "output_type": "display_data"
    }
   ],
   "source": [
    "c(4, 5, 6) > 5"
   ]
  },
  {
   "cell_type": "markdown",
   "metadata": {},
   "source": [
    "This command tests for every element of the vector if the condition stated by the comparison operator is TRUE or FALSE."
   ]
  },
  {
   "cell_type": "markdown",
   "metadata": {},
   "source": [
    "#### Question 1"
   ]
  },
  {
   "cell_type": "markdown",
   "metadata": {},
   "source": [
    "Check which elements in mulch_vector are positive (i.e. > 0) and assign this to selection_vector. Print out selection_vector so you can inspect it. The printout tells you whether you profited (TRUE) or lost (FALSE) any money for each month.\n",
    "- Note:  In order to check for which months your mulching gains are positive, R should check for each element of mulch_vector whether it is larger than zero. some_vector > 0 is the way to tell R what you are after."
   ]
  },
  {
   "cell_type": "code",
   "execution_count": 73,
   "metadata": {
    "collapsed": true
   },
   "outputs": [],
   "source": [
    "#your code here\n"
   ]
  },
  {
   "cell_type": "markdown",
   "metadata": {},
   "source": [
    "Working with comparisons will make your data analytical life easier. Instead of selecting a subset of months to investigate yourself (like before), you can simply ask R to return only the months where you realized a positive return for mulching.\n",
    "\n",
    "In the previous exercises you used `selection_vector <- mulch_vector > 0` to find the days on which you had a positive mulching  return. Now, you would like to know not only the months you profited, but also how much you profited on those months."
   ]
  },
  {
   "cell_type": "markdown",
   "metadata": {},
   "source": [
    "#### Instructions"
   ]
  },
  {
   "cell_type": "markdown",
   "metadata": {
    "autoscroll": false,
    "collapsed": true
   },
   "source": [
    "You can select the desired elements, by putting `selection_vector` between the square brackets that follow `mulch_vector`.\n",
    "- Note: All values in the mulch_vector where 'mulch_vector > 0' is TRUE will be printed."
   ]
  },
  {
   "cell_type": "code",
   "execution_count": 74,
   "metadata": {
    "collapsed": false
   },
   "outputs": [
    {
     "name": "stdout",
     "output_type": "stream",
     "text": [
      "March April   May  July \n",
      "   85   200   225    40 \n"
     ]
    }
   ],
   "source": [
    "print(mulch_vector[mulch_vector > 0])"
   ]
  },
  {
   "cell_type": "markdown",
   "metadata": {},
   "source": [
    "Notice how because mulch_vector > 0 is assigned to 'selection_vector' we get the same results. "
   ]
  },
  {
   "cell_type": "code",
   "execution_count": 77,
   "metadata": {
    "collapsed": false
   },
   "outputs": [
    {
     "name": "stdout",
     "output_type": "stream",
     "text": [
      "March April   May  July \n",
      "   85   200   225    40 \n"
     ]
    }
   ],
   "source": [
    "selection_vector <- mulch_vector > 0\n",
    "print(mulch_vector[selection_vector])"
   ]
  },
  {
   "cell_type": "markdown",
   "metadata": {},
   "source": [
    "#### Question 2"
   ]
  },
  {
   "cell_type": "markdown",
   "metadata": {},
   "source": [
    "Use `selection_vector` in square brackets to assign the amounts that you profited on the profitable months to the variable `mulch_profit_months`."
   ]
  },
  {
   "cell_type": "code",
   "execution_count": null,
   "metadata": {
    "collapsed": true
   },
   "outputs": [],
   "source": [
    "#your code here\n"
   ]
  },
  {
   "cell_type": "markdown",
   "metadata": {},
   "source": [
    "Just like you did for mulching, you also want to know those months where you realized a positive return for grass cutting."
   ]
  },
  {
   "cell_type": "markdown",
   "metadata": {
    "autoscroll": false,
    "collapsed": true
   },
   "source": [
    "#### Question 3"
   ]
  },
  {
   "cell_type": "markdown",
   "metadata": {},
   "source": [
    "Create the variable `selection_vector`, this time to see if you made profit with grass cutting for different months."
   ]
  },
  {
   "cell_type": "code",
   "execution_count": null,
   "metadata": {
    "collapsed": true
   },
   "outputs": [],
   "source": [
    "#your code here\n"
   ]
  },
  {
   "cell_type": "markdown",
   "metadata": {},
   "source": [
    "#### Question 4"
   ]
  },
  {
   "cell_type": "markdown",
   "metadata": {},
   "source": [
    "Assign the amounts that you made on the months that you ended positively for grass cutting to the variable `grasscut_profit_months`. This vector thus contains the profitable months of `grasscut_vector`.\n"
   ]
  },
  {
   "cell_type": "code",
   "execution_count": null,
   "metadata": {
    "collapsed": true
   },
   "outputs": [],
   "source": [
    "#your code here\n"
   ]
  },
  {
   "cell_type": "markdown",
   "metadata": {},
   "source": [
    "<hr>\n",
    "#### For an .ipynb file of this lab follow <a href=\"https://github.com/anthonyiarussi/Introduction-to-Data-Science/tree/master/Student%20Labs/Labs%20.ipynb/Lab2\" target=\"_blank\">this link</a>.\n",
    "\n",
    "#### For a .Rmd file of this lab follow <a href=\"https://github.com/anthonyiarussi/Introduction-to-Data-Science\" target=\"_blank\">this link</a>.\n",
    "<hr>\n",
    "#### Go to the <a href=\"https://github.com/anthonyiarussi/Introduction-to-Data-Science\" target=\"_blank\">GitHub repository</a>, where you can download a copy of the lab for yourself!"
   ]
  }
 ],
 "metadata": {
  "Rmd_header": {
   "description": "In this R course, we'll take you on a trip to Vegas, where you will learn how to analyze your gambling results using vectors in R! After completing this chapter, you will be able to create vectors in R, name them, select elements from them and compare different vectors.",
   "title": "Vectors",
   "title_meta": "Chapter 2"
  },
  "kernelspec": {
   "display_name": "R",
   "language": "R",
   "name": "ir"
  },
  "language_info": {
   "codemirror_mode": "r",
   "file_extension": ".r",
   "mimetype": "text/x-r-source",
   "name": "R",
   "pygments_lexer": "r",
   "version": "3.3.2"
  }
 },
 "nbformat": 4,
 "nbformat_minor": 0
}
