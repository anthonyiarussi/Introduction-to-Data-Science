{
 "cells": [
  {
   "cell_type": "markdown",
   "metadata": {},
   "source": [
    "## John Carroll University- Introduction to Data Science"
   ]
  },
  {
   "cell_type": "markdown",
   "metadata": {},
   "source": []
  },
  {
   "cell_type": "markdown",
   "metadata": {},
   "source": [
    "This jupyter-book is meant to serve as a home base for all of your introductory data science needs! All labs in this book use the programming language R. The progression of this book is meant to go alongside your in-class progression for Data 100. Feel free to reference this online book for snippets of code or simply as the place where you retrieve your labs. All labs are broken down into multiple problems. Each problem contains instructions and questions. The instructions provide various questions and examples of how they are solved using R. The later questions do not contain solutions and are meant for you to solve on your own. At the end of each lab, there is a link to the GitHub repository where you can retrieve the labs offered in this book as both ‘.ipynb’ and ‘.Rmd’ files. "
   ]
  }
 ],
 "metadata": {
  "kernelspec": {
   "display_name": "R",
   "language": "R",
   "name": "ir"
  },
  "language_info": {
   "codemirror_mode": "r",
   "file_extension": ".r",
   "mimetype": "text/x-r-source",
   "name": "R",
   "pygments_lexer": "r",
   "version": "3.3.2"
  }
 },
 "nbformat": 4,
 "nbformat_minor": 0
}
