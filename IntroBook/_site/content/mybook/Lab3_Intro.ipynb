{
 "cells": [
  {
   "cell_type": "markdown",
   "metadata": {},
   "source": [
    "In this chapter, you will learn to do three things with a table: filter for particular observations, arrange the observations in a desired order, and mutate to add or change a column. You will see how each of these steps allow you to answer questions about your data."
   ]
  },
  {
   "cell_type": "markdown",
   "metadata": {},
   "source": [
    "For more on data transformation in R, follow the <a href=\"https://r4ds.had.co.nz/transform.html\" target=\"_blank\">link</a>.\n",
    "\n",
    "For more on the dplyr library, follow the <a href=\"https://dplyr.tidyverse.org/\" target=\"_blank\">link</a>.\n",
    "<hr>"
   ]
  }
 ],
 "metadata": {
  "kernelspec": {
   "display_name": "R",
   "language": "R",
   "name": "ir"
  },
  "language_info": {
   "codemirror_mode": "r",
   "file_extension": ".r",
   "mimetype": "text/x-r-source",
   "name": "R",
   "pygments_lexer": "r",
   "version": "3.3.2"
  }
 },
 "nbformat": 4,
 "nbformat_minor": 0
}
