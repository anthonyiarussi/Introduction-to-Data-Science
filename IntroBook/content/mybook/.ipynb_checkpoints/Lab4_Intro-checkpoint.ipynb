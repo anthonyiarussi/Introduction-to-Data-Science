{
 "cells": [
  {
   "cell_type": "markdown",
   "metadata": {},
   "source": [
    "In this chapter, you will learn how to visualize your data using ggplot2. The ggplot2 library offers a functional way of approaching data visualization. So far we have used the dplyr library to practice our data transformation skills on the nba data set, which was useful for various observations. Now, we are going to explore the nba data set using data visualization, and gain a new perspective on the data set."
   ]
  },
  {
   "cell_type": "markdown",
   "metadata": {},
   "source": [
    "For more on data visualization in R, follow the <a href=\"https://r4ds.had.co.nz/data-visualisation.html\" target=\"_blank\">link</a>.\n",
    "<hr>"
   ]
  }
 ],
 "metadata": {
  "kernelspec": {
   "display_name": "R",
   "language": "R",
   "name": "ir"
  },
  "language_info": {
   "codemirror_mode": "r",
   "file_extension": ".r",
   "mimetype": "text/x-r-source",
   "name": "R",
   "pygments_lexer": "r",
   "version": "3.3.2"
  }
 },
 "nbformat": 4,
 "nbformat_minor": 0
}
