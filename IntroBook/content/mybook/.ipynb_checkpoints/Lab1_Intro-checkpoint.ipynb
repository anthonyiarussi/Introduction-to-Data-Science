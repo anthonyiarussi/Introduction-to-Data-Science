{
 "cells": [
  {
   "cell_type": "markdown",
   "metadata": {},
   "source": [
    "<p><strong>Welcome!</strong> This notebook will teach you the basics of the R programming language. Although the information presented here is quite basic, it is an important foundation that will help you to read and write R code. By the end of this notebook, you will know the basics of R, including how to write basic commands, understand some basic data types, and how to perform simple operations on them.</p> "
   ]
  },
  {
   "cell_type": "markdown",
   "metadata": {
    "collapsed": true
   },
   "source": [
    "You can reference <a href=\"https://www.r-project.org/\" target=\"_blank\">R Project for Statistical Computing</a> to learn more about R.\n",
    "<hr>"
   ]
  }
 ],
 "metadata": {
  "kernelspec": {
   "display_name": "R",
   "language": "R",
   "name": "ir"
  },
  "language_info": {
   "codemirror_mode": "r",
   "file_extension": ".r",
   "mimetype": "text/x-r-source",
   "name": "R",
   "pygments_lexer": "r",
   "version": "3.3.2"
  }
 },
 "nbformat": 4,
 "nbformat_minor": 0
}
