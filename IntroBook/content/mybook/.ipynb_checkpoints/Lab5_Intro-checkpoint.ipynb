{
 "cells": [
  {
   "cell_type": "markdown",
   "metadata": {},
   "source": [
    "In this chapter, you will use advanced data visualization and transformation to explore a real insurance data set. This lab will use methods learned in labs 3 and 4. Data transformation and visualization methods will be used side by side to answer the same question. This will demonstrate how there are multiple approaches to the same question in data science. Now let us go explore the insurance data set."
   ]
  },
  {
   "cell_type": "markdown",
   "metadata": {},
   "source": [
    "For more on data transformation in R, follow the <a href=\"https://r4ds.had.co.nz/transform.html\" target=\"_blank\">link</a>.\n",
    "\n",
    "For more on data visualization in R, follow the <a href=\"https://r4ds.had.co.nz/data-visualisation.html\" target=\"_blank\">link</a>.\n",
    "<hr>"
   ]
  }
 ],
 "metadata": {
  "kernelspec": {
   "display_name": "R",
   "language": "R",
   "name": "ir"
  },
  "language_info": {
   "codemirror_mode": "r",
   "file_extension": ".r",
   "mimetype": "text/x-r-source",
   "name": "R",
   "pygments_lexer": "r",
   "version": "3.3.2"
  }
 },
 "nbformat": 4,
 "nbformat_minor": 0
}
