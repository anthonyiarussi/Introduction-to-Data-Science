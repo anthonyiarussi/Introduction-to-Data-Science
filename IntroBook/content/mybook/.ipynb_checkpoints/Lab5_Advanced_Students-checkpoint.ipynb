{
 "cells": [
  {
   "cell_type": "markdown",
   "metadata": {},
   "source": [
    "# Medical Cost Visualization and Transformation "
   ]
  },
  {
   "cell_type": "markdown",
   "metadata": {},
   "source": [
    "### Loading the dplyr and ggplot2 packages"
   ]
  },
  {
   "cell_type": "markdown",
   "metadata": {},
   "source": [
    "Before you can work with the insurance data set, you will need to load the R package that contains the tools for working with it."
   ]
  },
  {
   "cell_type": "markdown",
   "metadata": {},
   "source": [
    "Use the library() function to load the package. In this case, we have loaded the dplyr and ggplot2 packages for you."
   ]
  },
  {
   "cell_type": "code",
   "execution_count": 2,
   "metadata": {
    "collapsed": false
   },
   "outputs": [
    {
     "name": "stderr",
     "output_type": "stream",
     "text": [
      "\n",
      "Attaching package: 'dplyr'\n",
      "\n",
      "The following objects are masked from 'package:stats':\n",
      "\n",
      "    filter, lag\n",
      "\n",
      "The following objects are masked from 'package:base':\n",
      "\n",
      "    intersect, setdiff, setequal, union\n",
      "\n"
     ]
    },
    {
     "name": "stdout",
     "output_type": "stream",
     "text": [
      "[1] \"Packages Loaded\"\n"
     ]
    }
   ],
   "source": [
    "# Load the dplyr and ggplot2 packages\n",
    "library(dplyr)\n",
    "library(ggplot2)\n",
    "print('Packages Loaded')"
   ]
  },
  {
   "cell_type": "code",
   "execution_count": 3,
   "metadata": {
    "collapsed": false
   },
   "outputs": [],
   "source": [
    "insurance = read.csv('insurance.csv')"
   ]
  },
  {
   "cell_type": "code",
   "execution_count": 4,
   "metadata": {
    "collapsed": false
   },
   "outputs": [
    {
     "data": {
      "text/html": [
       "<table>\n",
       "<thead><tr><th scope=col>age</th><th scope=col>sex</th><th scope=col>bmi</th><th scope=col>children</th><th scope=col>smoker</th><th scope=col>region</th><th scope=col>charges</th></tr></thead>\n",
       "<tbody>\n",
       "\t<tr><td>19       </td><td>female   </td><td>27.900   </td><td>0        </td><td>yes      </td><td>southwest</td><td>16884.924</td></tr>\n",
       "\t<tr><td>18       </td><td>male     </td><td>33.770   </td><td>1        </td><td>no       </td><td>southeast</td><td> 1725.552</td></tr>\n",
       "\t<tr><td>28       </td><td>male     </td><td>33.000   </td><td>3        </td><td>no       </td><td>southeast</td><td> 4449.462</td></tr>\n",
       "\t<tr><td>33       </td><td>male     </td><td>22.705   </td><td>0        </td><td>no       </td><td>northwest</td><td>21984.471</td></tr>\n",
       "\t<tr><td>32       </td><td>male     </td><td>28.880   </td><td>0        </td><td>no       </td><td>northwest</td><td> 3866.855</td></tr>\n",
       "\t<tr><td>31       </td><td>female   </td><td>25.740   </td><td>0        </td><td>no       </td><td>southeast</td><td> 3756.622</td></tr>\n",
       "</tbody>\n",
       "</table>\n"
      ],
      "text/latex": [
       "\\begin{tabular}{r|lllllll}\n",
       " age & sex & bmi & children & smoker & region & charges\\\\\n",
       "\\hline\n",
       "\t 19        & female    & 27.900    & 0         & yes       & southwest & 16884.924\\\\\n",
       "\t 18        & male      & 33.770    & 1         & no        & southeast &  1725.552\\\\\n",
       "\t 28        & male      & 33.000    & 3         & no        & southeast &  4449.462\\\\\n",
       "\t 33        & male      & 22.705    & 0         & no        & northwest & 21984.471\\\\\n",
       "\t 32        & male      & 28.880    & 0         & no        & northwest &  3866.855\\\\\n",
       "\t 31        & female    & 25.740    & 0         & no        & southeast &  3756.622\\\\\n",
       "\\end{tabular}\n"
      ],
      "text/markdown": [
       "\n",
       "age | sex | bmi | children | smoker | region | charges | \n",
       "|---|---|---|---|---|---|\n",
       "| 19        | female    | 27.900    | 0         | yes       | southwest | 16884.924 | \n",
       "| 18        | male      | 33.770    | 1         | no        | southeast |  1725.552 | \n",
       "| 28        | male      | 33.000    | 3         | no        | southeast |  4449.462 | \n",
       "| 33        | male      | 22.705    | 0         | no        | northwest | 21984.471 | \n",
       "| 32        | male      | 28.880    | 0         | no        | northwest |  3866.855 | \n",
       "| 31        | female    | 25.740    | 0         | no        | southeast |  3756.622 | \n",
       "\n",
       "\n"
      ],
      "text/plain": [
       "  age sex    bmi    children smoker region    charges  \n",
       "1 19  female 27.900 0        yes    southwest 16884.924\n",
       "2 18  male   33.770 1        no     southeast  1725.552\n",
       "3 28  male   33.000 3        no     southeast  4449.462\n",
       "4 33  male   22.705 0        no     northwest 21984.471\n",
       "5 32  male   28.880 0        no     northwest  3866.855\n",
       "6 31  female 25.740 0        no     southeast  3756.622"
      ]
     },
     "metadata": {},
     "output_type": "display_data"
    }
   ],
   "source": [
    "# Look at the insurance data set\n",
    "head(insurance)"
   ]
  },
  {
   "cell_type": "markdown",
   "metadata": {},
   "source": [
    "### Understanding insurance data set"
   ]
  },
  {
   "cell_type": "markdown",
   "metadata": {},
   "source": [
    "Now that we have loaded the insurance data set, you can start examining and understanding it."
   ]
  },
  {
   "cell_type": "markdown",
   "metadata": {},
   "source": [
    "How many observations (rows) are in the data set?"
   ]
  },
  {
   "cell_type": "code",
   "execution_count": 5,
   "metadata": {
    "collapsed": true
   },
   "outputs": [],
   "source": [
    "#your code here\n"
   ]
  },
  {
   "cell_type": "markdown",
   "metadata": {},
   "source": [
    "How many variables (columns) are in the data set?"
   ]
  },
  {
   "cell_type": "code",
   "execution_count": 7,
   "metadata": {
    "collapsed": true
   },
   "outputs": [],
   "source": [
    "#your code here"
   ]
  },
  {
   "cell_type": "markdown",
   "metadata": {},
   "source": [
    "How many unique regions are in the insurance data set?"
   ]
  },
  {
   "cell_type": "code",
   "execution_count": 9,
   "metadata": {
    "collapsed": true
   },
   "outputs": [],
   "source": [
    "#your code here\n"
   ]
  },
  {
   "cell_type": "markdown",
   "metadata": {},
   "source": [
    "What is the mean insurance cost for all the individuals in the data set?\n",
    "- Note: The insurance cost is listed under the 'charges' column."
   ]
  },
  {
   "cell_type": "code",
   "execution_count": 11,
   "metadata": {
    "collapsed": true
   },
   "outputs": [],
   "source": [
    "#your code here\n"
   ]
  },
  {
   "cell_type": "markdown",
   "metadata": {},
   "source": [
    "### Data Preproccesing "
   ]
  },
  {
   "cell_type": "markdown",
   "metadata": {},
   "source": [
    "It will benefit us to group the insurance cost data into a new variable that is grouped into 'High', 'Medium', and 'Low' in reference to cost."
   ]
  },
  {
   "cell_type": "markdown",
   "metadata": {},
   "source": [
    "First, let us get a basic summary of the charges variable in order to better understand it."
   ]
  },
  {
   "cell_type": "code",
   "execution_count": 13,
   "metadata": {
    "collapsed": false
   },
   "outputs": [
    {
     "data": {
      "text/plain": [
       "   Min. 1st Qu.  Median    Mean 3rd Qu.    Max. \n",
       "   1122    4740    9382   13270   16640   63770 "
      ]
     },
     "metadata": {},
     "output_type": "display_data"
    }
   ],
   "source": [
    "summary(insurance$charges)"
   ]
  },
  {
   "cell_type": "markdown",
   "metadata": {},
   "source": [
    "After looking at the charges variable it makes sense to divide the groups as all rows with charges less than 5000 will be categorized as 'Low'. All rows with charges greater than 5000 and less than 15000 will be categorized as 'Medium', and all rows with charges greater than 15000 will be categorized as 'High'.\n",
    "\n",
    "Below I used the mutate function and an if else statement to achieve this."
   ]
  },
  {
   "cell_type": "code",
   "execution_count": 14,
   "metadata": {
    "collapsed": false
   },
   "outputs": [],
   "source": [
    "insurance = insurance %>% \n",
    "    mutate(charges_grouped = if_else(charges < 5000, 'Low', if_else(charges < 15000, 'Medium', 'High')))"
   ]
  },
  {
   "cell_type": "markdown",
   "metadata": {},
   "source": [
    "As you can see, the 'charges_grouped' variable has been added, grouped according to the charges. "
   ]
  },
  {
   "cell_type": "code",
   "execution_count": 15,
   "metadata": {
    "collapsed": false
   },
   "outputs": [
    {
     "data": {
      "text/html": [
       "<table>\n",
       "<thead><tr><th scope=col>age</th><th scope=col>sex</th><th scope=col>bmi</th><th scope=col>children</th><th scope=col>smoker</th><th scope=col>region</th><th scope=col>charges</th><th scope=col>charges_blocked</th></tr></thead>\n",
       "<tbody>\n",
       "\t<tr><td>19       </td><td>female   </td><td>27.900   </td><td>0        </td><td>yes      </td><td>southwest</td><td>16884.924</td><td>High     </td></tr>\n",
       "\t<tr><td>18       </td><td>male     </td><td>33.770   </td><td>1        </td><td>no       </td><td>southeast</td><td> 1725.552</td><td>Low      </td></tr>\n",
       "\t<tr><td>28       </td><td>male     </td><td>33.000   </td><td>3        </td><td>no       </td><td>southeast</td><td> 4449.462</td><td>Low      </td></tr>\n",
       "\t<tr><td>33       </td><td>male     </td><td>22.705   </td><td>0        </td><td>no       </td><td>northwest</td><td>21984.471</td><td>High     </td></tr>\n",
       "\t<tr><td>32       </td><td>male     </td><td>28.880   </td><td>0        </td><td>no       </td><td>northwest</td><td> 3866.855</td><td>Low      </td></tr>\n",
       "\t<tr><td>31       </td><td>female   </td><td>25.740   </td><td>0        </td><td>no       </td><td>southeast</td><td> 3756.622</td><td>Low      </td></tr>\n",
       "</tbody>\n",
       "</table>\n"
      ],
      "text/latex": [
       "\\begin{tabular}{r|llllllll}\n",
       " age & sex & bmi & children & smoker & region & charges & charges\\_blocked\\\\\n",
       "\\hline\n",
       "\t 19        & female    & 27.900    & 0         & yes       & southwest & 16884.924 & High     \\\\\n",
       "\t 18        & male      & 33.770    & 1         & no        & southeast &  1725.552 & Low      \\\\\n",
       "\t 28        & male      & 33.000    & 3         & no        & southeast &  4449.462 & Low      \\\\\n",
       "\t 33        & male      & 22.705    & 0         & no        & northwest & 21984.471 & High     \\\\\n",
       "\t 32        & male      & 28.880    & 0         & no        & northwest &  3866.855 & Low      \\\\\n",
       "\t 31        & female    & 25.740    & 0         & no        & southeast &  3756.622 & Low      \\\\\n",
       "\\end{tabular}\n"
      ],
      "text/markdown": [
       "\n",
       "age | sex | bmi | children | smoker | region | charges | charges_blocked | \n",
       "|---|---|---|---|---|---|\n",
       "| 19        | female    | 27.900    | 0         | yes       | southwest | 16884.924 | High      | \n",
       "| 18        | male      | 33.770    | 1         | no        | southeast |  1725.552 | Low       | \n",
       "| 28        | male      | 33.000    | 3         | no        | southeast |  4449.462 | Low       | \n",
       "| 33        | male      | 22.705    | 0         | no        | northwest | 21984.471 | High      | \n",
       "| 32        | male      | 28.880    | 0         | no        | northwest |  3866.855 | Low       | \n",
       "| 31        | female    | 25.740    | 0         | no        | southeast |  3756.622 | Low       | \n",
       "\n",
       "\n"
      ],
      "text/plain": [
       "  age sex    bmi    children smoker region    charges   charges_blocked\n",
       "1 19  female 27.900 0        yes    southwest 16884.924 High           \n",
       "2 18  male   33.770 1        no     southeast  1725.552 Low            \n",
       "3 28  male   33.000 3        no     southeast  4449.462 Low            \n",
       "4 33  male   22.705 0        no     northwest 21984.471 High           \n",
       "5 32  male   28.880 0        no     northwest  3866.855 Low            \n",
       "6 31  female 25.740 0        no     southeast  3756.622 Low            "
      ]
     },
     "metadata": {},
     "output_type": "display_data"
    }
   ],
   "source": [
    "head(insurance)"
   ]
  },
  {
   "cell_type": "code",
   "execution_count": 16,
   "metadata": {
    "collapsed": false
   },
   "outputs": [
    {
     "data": {
      "text/plain": [
       "      age            sex           bmi           children     smoker    \n",
       " Min.   :18.00   female:662   Min.   :15.96   Min.   :0.000   no :1064  \n",
       " 1st Qu.:27.00   male  :676   1st Qu.:26.30   1st Qu.:0.000   yes: 274  \n",
       " Median :39.00                Median :30.40   Median :1.000             \n",
       " Mean   :39.21                Mean   :30.66   Mean   :1.095             \n",
       " 3rd Qu.:51.00                3rd Qu.:34.69   3rd Qu.:2.000             \n",
       " Max.   :64.00                Max.   :53.13   Max.   :5.000             \n",
       "       region       charges      charges_blocked   \n",
       " northeast:324   Min.   : 1122   Length:1338       \n",
       " northwest:325   1st Qu.: 4740   Class :character  \n",
       " southeast:364   Median : 9382   Mode  :character  \n",
       " southwest:325   Mean   :13270                     \n",
       "                 3rd Qu.:16640                     \n",
       "                 Max.   :63770                     "
      ]
     },
     "metadata": {},
     "output_type": "display_data"
    }
   ],
   "source": [
    "summary(insurance)"
   ]
  },
  {
   "cell_type": "markdown",
   "metadata": {},
   "source": [
    "# Problem 1"
   ]
  },
  {
   "cell_type": "markdown",
   "metadata": {
    "collapsed": true
   },
   "source": [
    "Let us start by doing some basic data exploration using methods we learned in labs 3 and 4. "
   ]
  },
  {
   "cell_type": "markdown",
   "metadata": {},
   "source": [
    "#### Instructions"
   ]
  },
  {
   "cell_type": "markdown",
   "metadata": {},
   "source": [
    "It would be interesting to find out whether there is a mean difference in insurance cost based on gender. As we have learned in previous labs, there are multiple ways to approach this question. "
   ]
  },
  {
   "cell_type": "markdown",
   "metadata": {},
   "source": [
    "First, let us find the mean charges by gender using the group_by() and summarize() funciton. It is beneficial to get the most information out of our functions. More than one function can be added to the summarize() function. In this case I added the n() function which provides a count of all individuals in the grouping and the mean() function to calculate the mean charges in each group.   \n",
    "\n",
    "Let us make the name of the charges column 'mean_charges' and the count column 'count'. "
   ]
  },
  {
   "cell_type": "code",
   "execution_count": 17,
   "metadata": {
    "collapsed": false
   },
   "outputs": [
    {
     "data": {
      "text/html": [
       "<table>\n",
       "<thead><tr><th scope=col>sex</th><th scope=col>mean_charges</th><th scope=col>count</th></tr></thead>\n",
       "<tbody>\n",
       "\t<tr><td>female  </td><td>12569.58</td><td>662     </td></tr>\n",
       "\t<tr><td>male    </td><td>13956.75</td><td>676     </td></tr>\n",
       "</tbody>\n",
       "</table>\n"
      ],
      "text/latex": [
       "\\begin{tabular}{r|lll}\n",
       " sex & mean\\_charges & count\\\\\n",
       "\\hline\n",
       "\t female   & 12569.58 & 662     \\\\\n",
       "\t male     & 13956.75 & 676     \\\\\n",
       "\\end{tabular}\n"
      ],
      "text/markdown": [
       "\n",
       "sex | mean_charges | count | \n",
       "|---|---|\n",
       "| female   | 12569.58 | 662      | \n",
       "| male     | 13956.75 | 676      | \n",
       "\n",
       "\n"
      ],
      "text/plain": [
       "  sex    mean_charges count\n",
       "1 female 12569.58     662  \n",
       "2 male   13956.75     676  "
      ]
     },
     "metadata": {},
     "output_type": "display_data"
    }
   ],
   "source": [
    "insurance %>% group_by(sex) %>% summarize(mean_charges = mean(charges), count = n())"
   ]
  },
  {
   "cell_type": "markdown",
   "metadata": {},
   "source": [
    "As we can see, the mean charges are very similar for males and females. Also, each group is very similar in size. There are 662 females and 676 males in the data set. \n",
    "\n",
    "The above method is not the only way to figure out if there is a difference in insurance cost based on gender. \n",
    "\n",
    "Let us use a ggplot2 visualization to answer the same question. A geom_boxplot() function would work great for comparing the mean insurance cost of males and females side by side."
   ]
  },
  {
   "cell_type": "code",
   "execution_count": 18,
   "metadata": {
    "collapsed": false
   },
   "outputs": [
    {
     "data": {},
     "metadata": {},
     "output_type": "display_data"
    },
    {
     "data": {
      "image/png": "[encoded data removed]",
      "text/plain": [
       "plot without title"
      ]
     },
     "metadata": {},
     "output_type": "display_data"
    }
   ],
   "source": [
    "ggplot(data = insurance, mapping = aes(x = sex, y = charges)) +\n",
    "geom_boxplot()"
   ]
  },
  {
   "cell_type": "markdown",
   "metadata": {},
   "source": [
    "From this boxplot we can see that the mean charges for males and females are very close, accomplishing the same result as the first method. "
   ]
  },
  {
   "cell_type": "markdown",
   "metadata": {},
   "source": [
    "#### Question 1"
   ]
  },
  {
   "cell_type": "markdown",
   "metadata": {},
   "source": [
    "On your own you will explore the smoker variable. Do you think that someone who smokes will have a higher mean insurance cost than someone who does not? Write R code to answer this question. "
   ]
  },
  {
   "cell_type": "markdown",
   "metadata": {},
   "source": [
    "Find the mean charges by smoker using the group_by() and summarize() funciton. Use the n() function to display a count of smokers and non smokers. Make the name of the charges column 'mean_charges' and the name of the count column 'count'."
   ]
  },
  {
   "cell_type": "code",
   "execution_count": 19,
   "metadata": {
    "collapsed": true
   },
   "outputs": [],
   "source": [
    "#your code here"
   ]
  },
  {
   "cell_type": "markdown",
   "metadata": {},
   "source": [
    "#### Question 2"
   ]
  },
  {
   "cell_type": "markdown",
   "metadata": {},
   "source": [
    "Use the geom_boxplot() function to find the mean charges by smoker type. "
   ]
  },
  {
   "cell_type": "code",
   "execution_count": 21,
   "metadata": {
    "collapsed": true
   },
   "outputs": [],
   "source": [
    "#your code here"
   ]
  },
  {
   "cell_type": "markdown",
   "metadata": {},
   "source": [
    "#### Question 3"
   ]
  },
  {
   "cell_type": "markdown",
   "metadata": {},
   "source": [
    "Now that you have used the two methods to analyze the data, what can conclusion can you make about smokers vs non smokers? "
   ]
  },
  {
   "cell_type": "code",
   "execution_count": 23,
   "metadata": {
    "collapsed": true
   },
   "outputs": [],
   "source": [
    "#your conclusion here\n"
   ]
  },
  {
   "cell_type": "markdown",
   "metadata": {},
   "source": [
    "# Problem 2"
   ]
  },
  {
   "cell_type": "markdown",
   "metadata": {},
   "source": [
    "As we learned from Problem 1, smoking clearly impacts the cost of your health insurance. Whether or not you are a smoker is an important piece of information to insurance companies when assessing your overall health. Smoking clearly has links to overall health, therefore it would be reasonable to assume individuals who smoke have a higher mean BMI. Use the methods from Problem 1 to test the hypothesis that individuals who smoke have a higher mean BMI than individuals who do not smoke. "
   ]
  },
  {
   "cell_type": "markdown",
   "metadata": {},
   "source": [
    "#### Question 1"
   ]
  },
  {
   "cell_type": "markdown",
   "metadata": {},
   "source": [
    "Find the mean BMI by smoker using the group_by() and summarize() funciton. Make the name of the charges column 'mean_BMI'."
   ]
  },
  {
   "cell_type": "code",
   "execution_count": 25,
   "metadata": {
    "collapsed": true
   },
   "outputs": [],
   "source": [
    "#your code here\n"
   ]
  },
  {
   "cell_type": "markdown",
   "metadata": {},
   "source": [
    "#### Question 2"
   ]
  },
  {
   "cell_type": "markdown",
   "metadata": {},
   "source": [
    "Use the geom_boxplot() function to find the mean BMI by smoker type."
   ]
  },
  {
   "cell_type": "code",
   "execution_count": 27,
   "metadata": {
    "collapsed": true
   },
   "outputs": [],
   "source": [
    "#your code here\n"
   ]
  },
  {
   "cell_type": "markdown",
   "metadata": {},
   "source": [
    "#### Question 3"
   ]
  },
  {
   "cell_type": "markdown",
   "metadata": {},
   "source": [
    "Now that you have used two methods to analyze the hypothesis that smokers have a higher mean BMI than non smokers. What can you conclude about that statement? Do smokers have a higher mean insurance cost? "
   ]
  },
  {
   "cell_type": "code",
   "execution_count": 29,
   "metadata": {
    "collapsed": true
   },
   "outputs": [],
   "source": [
    "#your conclusion here\n"
   ]
  },
  {
   "cell_type": "markdown",
   "metadata": {},
   "source": [
    "# Problem 3"
   ]
  },
  {
   "cell_type": "markdown",
   "metadata": {},
   "source": [
    "In Problem 3 we are going to perform further exploration on the data set using advanced group_by() and visualization techniques. In Problem 1 we looked at the mean insurance cost by gender. It would be interesting to see if there is a compelling difference in the male and female groupings as well. In order to do this we need to explore the number of each type of group ('Low', 'Medium', 'High) within each gender group. Initially you may think to use the filter() function to create a new data set with just males and then use a groupby() and summarize function to count the number of charge types ('Low', 'Medium', 'High) for males, and repeat the same for females. But, now that you are on yor way to becoming a data scientist, efficiency is key. There is a simple way to explore the groups within a group using the groupby() function. "
   ]
  },
  {
   "cell_type": "markdown",
   "metadata": {},
   "source": [
    "#### Instructions "
   ]
  },
  {
   "cell_type": "markdown",
   "metadata": {},
   "source": [
    "Below I counted up the number of individuals in each group of charges_grouped ('Low', 'Medium', 'High) within each gender group ('male','female'). \n",
    "- Note: Notice how 'charges_grouped' is included in the groupby() function seperated by a comma.\n",
    "- Note: The function 'n()' is used as a simple count function, placed in the summarize function. We simply named it 'count'."
   ]
  },
  {
   "cell_type": "code",
   "execution_count": 50,
   "metadata": {
    "collapsed": false
   },
   "outputs": [
    {
     "data": {
      "text/html": [
       "<table>\n",
       "<thead><tr><th scope=col>sex</th><th scope=col>charges_blocked</th><th scope=col>count</th></tr></thead>\n",
       "<tbody>\n",
       "\t<tr><td>female</td><td>High  </td><td>159   </td></tr>\n",
       "\t<tr><td>female</td><td>Low   </td><td>173   </td></tr>\n",
       "\t<tr><td>female</td><td>Medium</td><td>330   </td></tr>\n",
       "\t<tr><td>male  </td><td>High  </td><td>199   </td></tr>\n",
       "\t<tr><td>male  </td><td>Low   </td><td>186   </td></tr>\n",
       "\t<tr><td>male  </td><td>Medium</td><td>291   </td></tr>\n",
       "</tbody>\n",
       "</table>\n"
      ],
      "text/latex": [
       "\\begin{tabular}{r|lll}\n",
       " sex & charges\\_blocked & count\\\\\n",
       "\\hline\n",
       "\t female & High   & 159   \\\\\n",
       "\t female & Low    & 173   \\\\\n",
       "\t female & Medium & 330   \\\\\n",
       "\t male   & High   & 199   \\\\\n",
       "\t male   & Low    & 186   \\\\\n",
       "\t male   & Medium & 291   \\\\\n",
       "\\end{tabular}\n"
      ],
      "text/markdown": [
       "\n",
       "sex | charges_blocked | count | \n",
       "|---|---|---|---|---|---|\n",
       "| female | High   | 159    | \n",
       "| female | Low    | 173    | \n",
       "| female | Medium | 330    | \n",
       "| male   | High   | 199    | \n",
       "| male   | Low    | 186    | \n",
       "| male   | Medium | 291    | \n",
       "\n",
       "\n"
      ],
      "text/plain": [
       "  sex    charges_blocked count\n",
       "1 female High            159  \n",
       "2 female Low             173  \n",
       "3 female Medium          330  \n",
       "4 male   High            199  \n",
       "5 male   Low             186  \n",
       "6 male   Medium          291  "
      ]
     },
     "metadata": {},
     "output_type": "display_data"
    }
   ],
   "source": [
    "insurance %>% group_by(sex, charges_grouped) %>% summarize(count = n())"
   ]
  },
  {
   "cell_type": "markdown",
   "metadata": {},
   "source": [
    "The information above is good, but in data science you are always asking the question: \"How can I make it better?\". Let us use the mutate() function to add a column that calculates the percentage of each charges group inside the respective gender group.\n",
    "- Note: An example of how the following is calculated, there are 662 females in the data set as we have learned in Problem 1. There are 330 females with 'Medium' charges grouped, therefore, the percentage is calculated by 330/662 = .4984894."
   ]
  },
  {
   "cell_type": "code",
   "execution_count": 52,
   "metadata": {
    "collapsed": false
   },
   "outputs": [
    {
     "data": {
      "text/html": [
       "<table>\n",
       "<thead><tr><th scope=col>sex</th><th scope=col>charges_blocked</th><th scope=col>count</th><th scope=col>percentage</th></tr></thead>\n",
       "<tbody>\n",
       "\t<tr><td>female   </td><td>High     </td><td>159      </td><td>0.2401813</td></tr>\n",
       "\t<tr><td>female   </td><td>Low      </td><td>173      </td><td>0.2613293</td></tr>\n",
       "\t<tr><td>female   </td><td>Medium   </td><td>330      </td><td>0.4984894</td></tr>\n",
       "\t<tr><td>male     </td><td>High     </td><td>199      </td><td>0.2943787</td></tr>\n",
       "\t<tr><td>male     </td><td>Low      </td><td>186      </td><td>0.2751479</td></tr>\n",
       "\t<tr><td>male     </td><td>Medium   </td><td>291      </td><td>0.4304734</td></tr>\n",
       "</tbody>\n",
       "</table>\n"
      ],
      "text/latex": [
       "\\begin{tabular}{r|llll}\n",
       " sex & charges\\_blocked & count & percentage\\\\\n",
       "\\hline\n",
       "\t female    & High      & 159       & 0.2401813\\\\\n",
       "\t female    & Low       & 173       & 0.2613293\\\\\n",
       "\t female    & Medium    & 330       & 0.4984894\\\\\n",
       "\t male      & High      & 199       & 0.2943787\\\\\n",
       "\t male      & Low       & 186       & 0.2751479\\\\\n",
       "\t male      & Medium    & 291       & 0.4304734\\\\\n",
       "\\end{tabular}\n"
      ],
      "text/markdown": [
       "\n",
       "sex | charges_blocked | count | percentage | \n",
       "|---|---|---|---|---|---|\n",
       "| female    | High      | 159       | 0.2401813 | \n",
       "| female    | Low       | 173       | 0.2613293 | \n",
       "| female    | Medium    | 330       | 0.4984894 | \n",
       "| male      | High      | 199       | 0.2943787 | \n",
       "| male      | Low       | 186       | 0.2751479 | \n",
       "| male      | Medium    | 291       | 0.4304734 | \n",
       "\n",
       "\n"
      ],
      "text/plain": [
       "  sex    charges_blocked count percentage\n",
       "1 female High            159   0.2401813 \n",
       "2 female Low             173   0.2613293 \n",
       "3 female Medium          330   0.4984894 \n",
       "4 male   High            199   0.2943787 \n",
       "5 male   Low             186   0.2751479 \n",
       "6 male   Medium          291   0.4304734 "
      ]
     },
     "metadata": {},
     "output_type": "display_data"
    }
   ],
   "source": [
    "insurance %>% group_by(sex, charges_grouped) %>% summarize(count = n()) %>% mutate(percentage = count/sum(count))"
   ]
  },
  {
   "cell_type": "markdown",
   "metadata": {},
   "source": [
    "The above table provides all the information in a single view.\n",
    "\n",
    "Let us use the ggplot2 functions to explore data. This problem deals with counts, therefore it would be appropriate to use a geom_bar() function. The geom_bar() function has a 'fill' option which allows you to group data within each bar using different colors. The 'fill' option is thus very useful in visualizing data grouped by gender."
   ]
  },
  {
   "cell_type": "code",
   "execution_count": 33,
   "metadata": {
    "collapsed": false
   },
   "outputs": [
    {
     "data": {},
     "metadata": {},
     "output_type": "display_data"
    },
    {
     "data": {
      "image/png": "[encoded data removed]",
      "text/plain": [
       "plot without title"
      ]
     },
     "metadata": {},
     "output_type": "display_data"
    }
   ],
   "source": [
    "ggplot(data = insurance) + \n",
    "  geom_bar(mapping = aes(x = sex, fill = charges_grouped))"
   ]
  },
  {
   "cell_type": "markdown",
   "metadata": {},
   "source": [
    "This visualization above allows us to easily compare the distributions of the charges grouped ('Low', 'Medium', 'High) by gender."
   ]
  },
  {
   "cell_type": "markdown",
   "metadata": {},
   "source": [
    "#### Question 1"
   ]
  },
  {
   "cell_type": "markdown",
   "metadata": {},
   "source": [
    "As we learned in Problem 1, being a smoker has a great impact on an individuals insurance cost. Use what you learned above to further explore the insurance charges grouped ('Low', 'Medium', 'High) by smoker and non smoker. "
   ]
  },
  {
   "cell_type": "markdown",
   "metadata": {},
   "source": [
    "On your own use the groupby() and summarize() function to explore the differences in the charges grouped by smokers and non smokers. "
   ]
  },
  {
   "cell_type": "code",
   "execution_count": 34,
   "metadata": {
    "collapsed": true
   },
   "outputs": [],
   "source": [
    "#your code here\n"
   ]
  },
  {
   "cell_type": "markdown",
   "metadata": {
    "collapsed": true
   },
   "source": [
    "#### Question 2"
   ]
  },
  {
   "cell_type": "markdown",
   "metadata": {},
   "source": [
    "Use the groupby() and summarize() function to answer whether or not there is a compelling difference in the charges grouped by smoker. But, this time add percentages to the respective groups using the mutate() function.\n",
    "\n",
    "Make the name of the counted column 'count' and the name of the percentage column 'percentage'. "
   ]
  },
  {
   "cell_type": "code",
   "execution_count": 53,
   "metadata": {
    "collapsed": true
   },
   "outputs": [],
   "source": [
    "#your code here\n"
   ]
  },
  {
   "cell_type": "markdown",
   "metadata": {},
   "source": [
    "#### Question 3"
   ]
  },
  {
   "cell_type": "markdown",
   "metadata": {},
   "source": [
    "Use the geom_bar() function to vizualize whether or not there is a compelling difference in the charges ('Low', 'Medium', 'High) grouped by smoker.\n",
    "- Note: The fill function will be necessary for this."
   ]
  },
  {
   "cell_type": "code",
   "execution_count": 37,
   "metadata": {
    "collapsed": true
   },
   "outputs": [],
   "source": [
    "#your code here\n"
   ]
  },
  {
   "cell_type": "markdown",
   "metadata": {},
   "source": [
    "#### Question 4"
   ]
  },
  {
   "cell_type": "markdown",
   "metadata": {},
   "source": [
    "What can you conclude about smoking and insurance cost after exploring the insurance charges grouped ('Low', 'Medium', 'High) by smoker and non smoker? What percentage of smokers are in the 'Medium' group? Are there any smokers in the 'Low' group?"
   ]
  },
  {
   "cell_type": "code",
   "execution_count": 39,
   "metadata": {
    "collapsed": true
   },
   "outputs": [],
   "source": [
    "#your conclusion here\n"
   ]
  },
  {
   "cell_type": "markdown",
   "metadata": {},
   "source": [
    "# Problem 4"
   ]
  },
  {
   "cell_type": "markdown",
   "metadata": {},
   "source": [
    "Another variable that may have a influence on insurance cost is the number of dependents/children an individual has. Do you think that that individuals with more children will have higher the insurance costs? Using the skills you practiced before answer this question."
   ]
  },
  {
   "cell_type": "markdown",
   "metadata": {},
   "source": [
    "#### Question 1"
   ]
  },
  {
   "cell_type": "markdown",
   "metadata": {},
   "source": [
    "Find the mean charges by number of children using the group_by() and summarize() funciton. Use the count n() function to count the number of individuals in each group. Add percentages to the respective groups using the mutate function. Make the name of the charges column 'mean_charges', the name of the count column 'count', and the name of the percentages column 'percentage'.\n",
    "- Note: Notice the number of individuals in each group. Is it reasonable to make any assumptions when the number of individuals in the group is small?"
   ]
  },
  {
   "cell_type": "code",
   "execution_count": 41,
   "metadata": {
    "collapsed": true
   },
   "outputs": [],
   "source": [
    "#your code here\n"
   ]
  },
  {
   "cell_type": "markdown",
   "metadata": {},
   "source": [
    "#### Question 2"
   ]
  },
  {
   "cell_type": "markdown",
   "metadata": {},
   "source": [
    "Use the geom_bar() function to vizualize whether or not there is a compelling difference in the charges grouped by number of children.\n",
    "- Note: The fill function will be necessary for this."
   ]
  },
  {
   "cell_type": "code",
   "execution_count": 43,
   "metadata": {
    "collapsed": true
   },
   "outputs": [],
   "source": [
    "#your code here\n"
   ]
  },
  {
   "cell_type": "markdown",
   "metadata": {},
   "source": [
    "#### Question 3"
   ]
  },
  {
   "cell_type": "markdown",
   "metadata": {},
   "source": [
    "What can you conclude about the hypothesis that the more children an individual has the higher the bills? Do your findings agree or disagree? Individuals with which number of children have the highest mean insurance cost? "
   ]
  },
  {
   "cell_type": "code",
   "execution_count": 45,
   "metadata": {
    "collapsed": true
   },
   "outputs": [],
   "source": [
    "#your conclusion here\n"
   ]
  },
  {
   "cell_type": "markdown",
   "metadata": {},
   "source": [
    "# Problem 5 "
   ]
  },
  {
   "cell_type": "markdown",
   "metadata": {},
   "source": [
    "The last variable we will be looking at is age. Look at the average age for each charge grouped. We can hypothesize that the 'High' charge grouped group will have a higher mean age than 'Medium', and 'Medium' a higher mean age than 'Low'. On your own you are going to test this hypothesis."
   ]
  },
  {
   "cell_type": "markdown",
   "metadata": {},
   "source": [
    "#### Question 1"
   ]
  },
  {
   "cell_type": "markdown",
   "metadata": {},
   "source": [
    "Use the groupby() and summarize() function to find the average age for each grouped charge. Make the name of the average age column 'avg_age'. "
   ]
  },
  {
   "cell_type": "code",
   "execution_count": 57,
   "metadata": {
    "collapsed": true
   },
   "outputs": [],
   "source": [
    "#your code here\n"
   ]
  },
  {
   "cell_type": "markdown",
   "metadata": {},
   "source": [
    "#### Question 2"
   ]
  },
  {
   "cell_type": "markdown",
   "metadata": {},
   "source": [
    "Now, let us visualize the data. Use the geom_boxplot() function to find the mean age by each charge grouped."
   ]
  },
  {
   "cell_type": "code",
   "execution_count": 60,
   "metadata": {
    "collapsed": true
   },
   "outputs": [],
   "source": [
    "#your code here\n"
   ]
  },
  {
   "cell_type": "markdown",
   "metadata": {},
   "source": [
    "#### Question 3"
   ]
  },
  {
   "cell_type": "markdown",
   "metadata": {},
   "source": [
    "Which charge group had the highest average age? Are individuals who also pay higher insurance cost older or younger? "
   ]
  },
  {
   "cell_type": "code",
   "execution_count": 62,
   "metadata": {
    "collapsed": true
   },
   "outputs": [],
   "source": [
    "#your conclusion here\n"
   ]
  },
  {
   "cell_type": "markdown",
   "metadata": {},
   "source": [
    "<hr>\n",
    "#### For an .ipynb file of this lab follow <a href=\"https://github.com/anthonyiarussi/Introduction-to-Data-Science/tree/master/Student%20Labs/Labs%20.ipynb/Lab5\" target=\"_blank\">this link</a>.\n",
    "\n",
    "#### For a .Rmd file of this lab follow <a href=\"https://github.com/anthonyiarussi/Introduction-to-Data-Science\" target=\"_blank\">this link</a>.\n",
    "<hr>\n",
    "#### Go to the <a href=\"https://github.com/anthonyiarussi/Introduction-to-Data-Science\" target=\"_blank\">GitHub repository</a>, where you can download a copy of the lab for yourself!"
   ]
  }
 ],
 "metadata": {
  "kernelspec": {
   "display_name": "R",
   "language": "R",
   "name": "ir"
  },
  "language_info": {
   "codemirror_mode": "r",
   "file_extension": ".r",
   "mimetype": "text/x-r-source",
   "name": "R",
   "pygments_lexer": "r",
   "version": "3.3.2"
  }
 },
 "nbformat": 4,
 "nbformat_minor": 0
}
