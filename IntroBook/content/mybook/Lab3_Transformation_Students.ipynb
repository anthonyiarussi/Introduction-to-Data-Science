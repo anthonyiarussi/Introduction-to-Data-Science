{
 "cells": [
  {
   "cell_type": "markdown",
   "metadata": {},
   "source": [
    "# NBA Data Transformation"
   ]
  },
  {
   "cell_type": "markdown",
   "metadata": {},
   "source": [
    "Before you can work with the nba data set, you will need to load the R package that contains the tools for working with it."
   ]
  },
  {
   "cell_type": "markdown",
   "metadata": {},
   "source": [
    "Use the library() function to load the package. In this case, we have loaded the dplyr package for you."
   ]
  },
  {
   "cell_type": "code",
   "execution_count": 20,
   "metadata": {
    "collapsed": false
   },
   "outputs": [
    {
     "name": "stdout",
     "output_type": "stream",
     "text": [
      "[1] \"Packages Loaded\"\n"
     ]
    }
   ],
   "source": [
    "# Load the dplyr package\n",
    "library(dplyr)\n",
    "print('Packages Loaded')"
   ]
  },
  {
   "cell_type": "code",
   "execution_count": 11,
   "metadata": {
    "collapsed": true
   },
   "outputs": [],
   "source": [
    "nba = read.csv('all_seasons.csv')"
   ]
  },
  {
   "cell_type": "code",
   "execution_count": 12,
   "metadata": {
    "collapsed": false
   },
   "outputs": [
    {
     "data": {
      "text/html": [
       "<table>\n",
       "<thead><tr><th scope=col>X</th><th scope=col>player_name</th><th scope=col>team_abbreviation</th><th scope=col>age</th><th scope=col>player_height</th><th scope=col>player_weight</th><th scope=col>college</th><th scope=col>country</th><th scope=col>draft_year</th><th scope=col>draft_round</th><th scope=col>gp</th><th scope=col>pts</th><th scope=col>reb</th><th scope=col>ast</th><th scope=col>season</th></tr></thead>\n",
       "<tbody>\n",
       "\t<tr><td>0                              </td><td>Chris Robinson                 </td><td>VAN                            </td><td>23                             </td><td>195.58                         </td><td> 90.7184                       </td><td>Western Kentucky               </td><td>USA                            </td><td>1996                           </td><td>2                              </td><td>41                             </td><td>4.6                            </td><td>1.7                            </td><td>1.6                            </td><td>1996-97                        </td></tr>\n",
       "\t<tr><td>1                              </td><td>Matt Fish                      </td><td>MIA                            </td><td>27                             </td><td>210.82                         </td><td>106.5941                       </td><td>North Carolina-Wilmington      </td><td>USA                            </td><td>1992                           </td><td>2                              </td><td> 6                             </td><td>0.3                            </td><td>0.8                            </td><td>0.0                            </td><td>1996-97                        </td></tr>\n",
       "\t<tr><td>2                              </td><td>Matt Bullard                   </td><td>HOU                            </td><td>30                             </td><td>208.28                         </td><td>106.5941                       </td><td>Iowa                           </td><td>USA                            </td><td>Undrafted                      </td><td>Undrafted                      </td><td>71                             </td><td>4.5                            </td><td>1.6                            </td><td>0.9                            </td><td>1996-97                        </td></tr>\n",
       "\t<tr><td>3                              </td><td>Marty Conlon                   </td><td>BOS                            </td><td>29                             </td><td>210.82                         </td><td>111.1300                       </td><td>Providence                     </td><td>USA                            </td><td>Undrafted                      </td><td>Undrafted                      </td><td>74                             </td><td>7.8                            </td><td>4.4                            </td><td>1.4                            </td><td>1996-97                        </td></tr>\n",
       "\t<tr><td>4                              </td><td>Martin Muursepp                </td><td>DAL                            </td><td>22                             </td><td>205.74                         </td><td>106.5941                       </td><td>None                           </td><td>USA                            </td><td>1996                           </td><td>1                              </td><td>42                             </td><td>3.7                            </td><td>1.6                            </td><td>0.5                            </td><td>1996-97                        </td></tr>\n",
       "\t<tr><td>5                              </td><td>Martin Lewis                   </td><td>TOR                            </td><td>22                             </td><td>198.12                         </td><td>102.0582                       </td><td>Seward County Community College</td><td>USA                            </td><td>1995                           </td><td>2                              </td><td> 9                             </td><td>1.6                            </td><td>0.7                            </td><td>0.4                            </td><td>1996-97                        </td></tr>\n",
       "</tbody>\n",
       "</table>\n"
      ],
      "text/latex": [
       "\\begin{tabular}{r|lllllllllllllll}\n",
       " X & player\\_name & team\\_abbreviation & age & player\\_height & player\\_weight & college & country & draft\\_year & draft\\_round & gp & pts & reb & ast & season\\\\\n",
       "\\hline\n",
       "\t 0                               & Chris Robinson                  & VAN                             & 23                              & 195.58                          &  90.7184                        & Western Kentucky                & USA                             & 1996                            & 2                               & 41                              & 4.6                             & 1.7                             & 1.6                             & 1996-97                        \\\\\n",
       "\t 1                               & Matt Fish                       & MIA                             & 27                              & 210.82                          & 106.5941                        & North Carolina-Wilmington       & USA                             & 1992                            & 2                               &  6                              & 0.3                             & 0.8                             & 0.0                             & 1996-97                        \\\\\n",
       "\t 2                               & Matt Bullard                    & HOU                             & 30                              & 208.28                          & 106.5941                        & Iowa                            & USA                             & Undrafted                       & Undrafted                       & 71                              & 4.5                             & 1.6                             & 0.9                             & 1996-97                        \\\\\n",
       "\t 3                               & Marty Conlon                    & BOS                             & 29                              & 210.82                          & 111.1300                        & Providence                      & USA                             & Undrafted                       & Undrafted                       & 74                              & 7.8                             & 4.4                             & 1.4                             & 1996-97                        \\\\\n",
       "\t 4                               & Martin Muursepp                 & DAL                             & 22                              & 205.74                          & 106.5941                        & None                            & USA                             & 1996                            & 1                               & 42                              & 3.7                             & 1.6                             & 0.5                             & 1996-97                        \\\\\n",
       "\t 5                               & Martin Lewis                    & TOR                             & 22                              & 198.12                          & 102.0582                        & Seward County Community College & USA                             & 1995                            & 2                               &  9                              & 1.6                             & 0.7                             & 0.4                             & 1996-97                        \\\\\n",
       "\\end{tabular}\n"
      ],
      "text/markdown": [
       "\n",
       "X | player_name | team_abbreviation | age | player_height | player_weight | college | country | draft_year | draft_round | gp | pts | reb | ast | season | \n",
       "|---|---|---|---|---|---|\n",
       "| 0                               | Chris Robinson                  | VAN                             | 23                              | 195.58                          |  90.7184                        | Western Kentucky                | USA                             | 1996                            | 2                               | 41                              | 4.6                             | 1.7                             | 1.6                             | 1996-97                         | \n",
       "| 1                               | Matt Fish                       | MIA                             | 27                              | 210.82                          | 106.5941                        | North Carolina-Wilmington       | USA                             | 1992                            | 2                               |  6                              | 0.3                             | 0.8                             | 0.0                             | 1996-97                         | \n",
       "| 2                               | Matt Bullard                    | HOU                             | 30                              | 208.28                          | 106.5941                        | Iowa                            | USA                             | Undrafted                       | Undrafted                       | 71                              | 4.5                             | 1.6                             | 0.9                             | 1996-97                         | \n",
       "| 3                               | Marty Conlon                    | BOS                             | 29                              | 210.82                          | 111.1300                        | Providence                      | USA                             | Undrafted                       | Undrafted                       | 74                              | 7.8                             | 4.4                             | 1.4                             | 1996-97                         | \n",
       "| 4                               | Martin Muursepp                 | DAL                             | 22                              | 205.74                          | 106.5941                        | None                            | USA                             | 1996                            | 1                               | 42                              | 3.7                             | 1.6                             | 0.5                             | 1996-97                         | \n",
       "| 5                               | Martin Lewis                    | TOR                             | 22                              | 198.12                          | 102.0582                        | Seward County Community College | USA                             | 1995                            | 2                               |  9                              | 1.6                             | 0.7                             | 0.4                             | 1996-97                         | \n",
       "\n",
       "\n"
      ],
      "text/plain": [
       "  X player_name     team_abbreviation age player_height player_weight\n",
       "1 0 Chris Robinson  VAN               23  195.58         90.7184     \n",
       "2 1 Matt Fish       MIA               27  210.82        106.5941     \n",
       "3 2 Matt Bullard    HOU               30  208.28        106.5941     \n",
       "4 3 Marty Conlon    BOS               29  210.82        111.1300     \n",
       "5 4 Martin Muursepp DAL               22  205.74        106.5941     \n",
       "6 5 Martin Lewis    TOR               22  198.12        102.0582     \n",
       "  college                         country draft_year draft_round gp pts reb ast\n",
       "1 Western Kentucky                USA     1996       2           41 4.6 1.7 1.6\n",
       "2 North Carolina-Wilmington       USA     1992       2            6 0.3 0.8 0.0\n",
       "3 Iowa                            USA     Undrafted  Undrafted   71 4.5 1.6 0.9\n",
       "4 Providence                      USA     Undrafted  Undrafted   74 7.8 4.4 1.4\n",
       "5 None                            USA     1996       1           42 3.7 1.6 0.5\n",
       "6 Seward County Community College USA     1995       2            9 1.6 0.7 0.4\n",
       "  season \n",
       "1 1996-97\n",
       "2 1996-97\n",
       "3 1996-97\n",
       "4 1996-97\n",
       "5 1996-97\n",
       "6 1996-97"
      ]
     },
     "metadata": {},
     "output_type": "display_data"
    },
    {
     "data": {
      "text/html": [
       "<ol class=list-inline>\n",
       "\t<li>9561</li>\n",
       "\t<li>15</li>\n",
       "</ol>\n"
      ],
      "text/latex": [
       "\\begin{enumerate*}\n",
       "\\item 9561\n",
       "\\item 15\n",
       "\\end{enumerate*}\n"
      ],
      "text/markdown": [
       "1. 9561\n",
       "2. 15\n",
       "\n",
       "\n"
      ],
      "text/plain": [
       "[1] 9561   15"
      ]
     },
     "metadata": {},
     "output_type": "display_data"
    }
   ],
   "source": [
    "# Look at the NBA data set\n",
    "head(nba)\n",
    "dim(nba)"
   ]
  },
  {
   "cell_type": "markdown",
   "metadata": {},
   "source": [
    "### Understanding NBA data frame"
   ]
  },
  {
   "cell_type": "markdown",
   "metadata": {},
   "source": [
    "Now that we have loaded the nba data set, you can start examining and understanding it."
   ]
  },
  {
   "cell_type": "markdown",
   "metadata": {},
   "source": [
    "How many observations (rows) are in the data set?"
   ]
  },
  {
   "cell_type": "code",
   "execution_count": 13,
   "metadata": {
    "collapsed": true
   },
   "outputs": [],
   "source": [
    "#your code here"
   ]
  },
  {
   "cell_type": "markdown",
   "metadata": {},
   "source": [
    "How many variables (columns) are in the data set?"
   ]
  },
  {
   "cell_type": "code",
   "execution_count": 15,
   "metadata": {
    "collapsed": true
   },
   "outputs": [],
   "source": [
    "#your code here"
   ]
  },
  {
   "cell_type": "markdown",
   "metadata": {},
   "source": [
    "# Problem 1"
   ]
  },
  {
   "cell_type": "markdown",
   "metadata": {},
   "source": [
    "When looking back at the history of the NBA, a common argument is that the average player in today's NBA is bigger and stronger than the average player in past generations of the NBA. This argument is commonly brought up when comparing the talent of great players in the NBA today to legendary players in the NBA's past. Lucky for you, we have all of the necessary tools to see if this argument holds any truth to it! But first let us see how many total seasons our data set covers."
   ]
  },
  {
   "cell_type": "markdown",
   "metadata": {},
   "source": [
    "#### Instructions"
   ]
  },
  {
   "cell_type": "markdown",
   "metadata": {},
   "source": [
    "The nba data set covers from the _______ season to the _______ season?"
   ]
  },
  {
   "cell_type": "code",
   "execution_count": 17,
   "metadata": {
    "collapsed": false
   },
   "outputs": [
    {
     "data": {
      "text/html": [
       "<ol class=list-inline>\n",
       "\t<li>1996-97</li>\n",
       "\t<li>1997-98</li>\n",
       "\t<li>1998-99</li>\n",
       "\t<li>1999-00</li>\n",
       "\t<li>2000-01</li>\n",
       "\t<li>2001-02</li>\n",
       "\t<li>2002-03</li>\n",
       "\t<li>2003-04</li>\n",
       "\t<li>2004-05</li>\n",
       "\t<li>2005-06</li>\n",
       "\t<li>2006-07</li>\n",
       "\t<li>2007-08</li>\n",
       "\t<li>2008-09</li>\n",
       "\t<li>2009-10</li>\n",
       "\t<li>2010-11</li>\n",
       "\t<li>2011-12</li>\n",
       "\t<li>2012-13</li>\n",
       "\t<li>2013-14</li>\n",
       "\t<li>2014-15</li>\n",
       "\t<li>2015-16</li>\n",
       "\t<li>2016-17</li>\n",
       "</ol>\n"
      ],
      "text/latex": [
       "\\begin{enumerate*}\n",
       "\\item 1996-97\n",
       "\\item 1997-98\n",
       "\\item 1998-99\n",
       "\\item 1999-00\n",
       "\\item 2000-01\n",
       "\\item 2001-02\n",
       "\\item 2002-03\n",
       "\\item 2003-04\n",
       "\\item 2004-05\n",
       "\\item 2005-06\n",
       "\\item 2006-07\n",
       "\\item 2007-08\n",
       "\\item 2008-09\n",
       "\\item 2009-10\n",
       "\\item 2010-11\n",
       "\\item 2011-12\n",
       "\\item 2012-13\n",
       "\\item 2013-14\n",
       "\\item 2014-15\n",
       "\\item 2015-16\n",
       "\\item 2016-17\n",
       "\\end{enumerate*}\n"
      ],
      "text/markdown": [
       "1. 1996-97\n",
       "2. 1997-98\n",
       "3. 1998-99\n",
       "4. 1999-00\n",
       "5. 2000-01\n",
       "6. 2001-02\n",
       "7. 2002-03\n",
       "8. 2003-04\n",
       "9. 2004-05\n",
       "10. 2005-06\n",
       "11. 2006-07\n",
       "12. 2007-08\n",
       "13. 2008-09\n",
       "14. 2009-10\n",
       "15. 2010-11\n",
       "16. 2011-12\n",
       "17. 2012-13\n",
       "18. 2013-14\n",
       "19. 2014-15\n",
       "20. 2015-16\n",
       "21. 2016-17\n",
       "\n",
       "\n"
      ],
      "text/plain": [
       " [1] 1996-97 1997-98 1998-99 1999-00 2000-01 2001-02 2002-03 2003-04 2004-05\n",
       "[10] 2005-06 2006-07 2007-08 2008-09 2009-10 2010-11 2011-12 2012-13 2013-14\n",
       "[19] 2014-15 2015-16 2016-17\n",
       "21 Levels: 1996-97 1997-98 1998-99 1999-00 2000-01 2001-02 2002-03 ... 2016-17"
      ]
     },
     "metadata": {},
     "output_type": "display_data"
    }
   ],
   "source": [
    "# lists each unique season in the nba data set\n",
    "unique(nba$season)\n",
    "#from the 1996-97 season to the 2016-2017 season."
   ]
  },
  {
   "cell_type": "markdown",
   "metadata": {},
   "source": [
    "How many seasons are in the nba data set?"
   ]
  },
  {
   "cell_type": "code",
   "execution_count": 18,
   "metadata": {
    "collapsed": false
   },
   "outputs": [
    {
     "data": {
      "text/html": [
       "21"
      ],
      "text/latex": [
       "21"
      ],
      "text/markdown": [
       "21"
      ],
      "text/plain": [
       "[1] 21"
      ]
     },
     "metadata": {},
     "output_type": "display_data"
    }
   ],
   "source": [
    "# Gives length of unique seasons in nba data set\n",
    "length(unique(nba$season))\n",
    "#21"
   ]
  },
  {
   "cell_type": "markdown",
   "metadata": {},
   "source": [
    "Next let us look at the 'player_height' variable. We initially notice that the height is kept in centimeters, which is difficult to visualize. We will use the mutate function to create a new variable/column 'player_height_ft', which will be the player's height in feet. After doing a simple conversion from cm(2.54 cm per inch) to ft we find that by dividing cm by 30.48 we convert our measurement to feet. "
   ]
  },
  {
   "cell_type": "code",
   "execution_count": 19,
   "metadata": {
    "collapsed": false,
    "scrolled": true
   },
   "outputs": [
    {
     "data": {
      "text/html": [
       "<table>\n",
       "<thead><tr><th scope=col>X</th><th scope=col>player_name</th><th scope=col>team_abbreviation</th><th scope=col>age</th><th scope=col>player_height</th><th scope=col>player_weight</th><th scope=col>college</th><th scope=col>country</th><th scope=col>draft_year</th><th scope=col>draft_round</th><th scope=col>gp</th><th scope=col>pts</th><th scope=col>reb</th><th scope=col>ast</th><th scope=col>season</th><th scope=col>player_height_ft</th></tr></thead>\n",
       "<tbody>\n",
       "\t<tr><td>0                              </td><td>Chris Robinson                 </td><td>VAN                            </td><td>23                             </td><td>195.58                         </td><td> 90.7184                       </td><td>Western Kentucky               </td><td>USA                            </td><td>1996                           </td><td>2                              </td><td>41                             </td><td>4.6                            </td><td>1.7                            </td><td>1.6                            </td><td>1996-97                        </td><td>6.416667                       </td></tr>\n",
       "\t<tr><td>1                              </td><td>Matt Fish                      </td><td>MIA                            </td><td>27                             </td><td>210.82                         </td><td>106.5941                       </td><td>North Carolina-Wilmington      </td><td>USA                            </td><td>1992                           </td><td>2                              </td><td> 6                             </td><td>0.3                            </td><td>0.8                            </td><td>0.0                            </td><td>1996-97                        </td><td>6.916667                       </td></tr>\n",
       "\t<tr><td>2                              </td><td>Matt Bullard                   </td><td>HOU                            </td><td>30                             </td><td>208.28                         </td><td>106.5941                       </td><td>Iowa                           </td><td>USA                            </td><td>Undrafted                      </td><td>Undrafted                      </td><td>71                             </td><td>4.5                            </td><td>1.6                            </td><td>0.9                            </td><td>1996-97                        </td><td>6.833333                       </td></tr>\n",
       "\t<tr><td>3                              </td><td>Marty Conlon                   </td><td>BOS                            </td><td>29                             </td><td>210.82                         </td><td>111.1300                       </td><td>Providence                     </td><td>USA                            </td><td>Undrafted                      </td><td>Undrafted                      </td><td>74                             </td><td>7.8                            </td><td>4.4                            </td><td>1.4                            </td><td>1996-97                        </td><td>6.916667                       </td></tr>\n",
       "\t<tr><td>4                              </td><td>Martin Muursepp                </td><td>DAL                            </td><td>22                             </td><td>205.74                         </td><td>106.5941                       </td><td>None                           </td><td>USA                            </td><td>1996                           </td><td>1                              </td><td>42                             </td><td>3.7                            </td><td>1.6                            </td><td>0.5                            </td><td>1996-97                        </td><td>6.750000                       </td></tr>\n",
       "\t<tr><td>5                              </td><td>Martin Lewis                   </td><td>TOR                            </td><td>22                             </td><td>198.12                         </td><td>102.0582                       </td><td>Seward County Community College</td><td>USA                            </td><td>1995                           </td><td>2                              </td><td> 9                             </td><td>1.6                            </td><td>0.7                            </td><td>0.4                            </td><td>1996-97                        </td><td>6.500000                       </td></tr>\n",
       "</tbody>\n",
       "</table>\n"
      ],
      "text/latex": [
       "\\begin{tabular}{r|llllllllllllllll}\n",
       " X & player\\_name & team\\_abbreviation & age & player\\_height & player\\_weight & college & country & draft\\_year & draft\\_round & gp & pts & reb & ast & season & player\\_height\\_ft\\\\\n",
       "\\hline\n",
       "\t 0                               & Chris Robinson                  & VAN                             & 23                              & 195.58                          &  90.7184                        & Western Kentucky                & USA                             & 1996                            & 2                               & 41                              & 4.6                             & 1.7                             & 1.6                             & 1996-97                         & 6.416667                       \\\\\n",
       "\t 1                               & Matt Fish                       & MIA                             & 27                              & 210.82                          & 106.5941                        & North Carolina-Wilmington       & USA                             & 1992                            & 2                               &  6                              & 0.3                             & 0.8                             & 0.0                             & 1996-97                         & 6.916667                       \\\\\n",
       "\t 2                               & Matt Bullard                    & HOU                             & 30                              & 208.28                          & 106.5941                        & Iowa                            & USA                             & Undrafted                       & Undrafted                       & 71                              & 4.5                             & 1.6                             & 0.9                             & 1996-97                         & 6.833333                       \\\\\n",
       "\t 3                               & Marty Conlon                    & BOS                             & 29                              & 210.82                          & 111.1300                        & Providence                      & USA                             & Undrafted                       & Undrafted                       & 74                              & 7.8                             & 4.4                             & 1.4                             & 1996-97                         & 6.916667                       \\\\\n",
       "\t 4                               & Martin Muursepp                 & DAL                             & 22                              & 205.74                          & 106.5941                        & None                            & USA                             & 1996                            & 1                               & 42                              & 3.7                             & 1.6                             & 0.5                             & 1996-97                         & 6.750000                       \\\\\n",
       "\t 5                               & Martin Lewis                    & TOR                             & 22                              & 198.12                          & 102.0582                        & Seward County Community College & USA                             & 1995                            & 2                               &  9                              & 1.6                             & 0.7                             & 0.4                             & 1996-97                         & 6.500000                       \\\\\n",
       "\\end{tabular}\n"
      ],
      "text/markdown": [
       "\n",
       "X | player_name | team_abbreviation | age | player_height | player_weight | college | country | draft_year | draft_round | gp | pts | reb | ast | season | player_height_ft | \n",
       "|---|---|---|---|---|---|\n",
       "| 0                               | Chris Robinson                  | VAN                             | 23                              | 195.58                          |  90.7184                        | Western Kentucky                | USA                             | 1996                            | 2                               | 41                              | 4.6                             | 1.7                             | 1.6                             | 1996-97                         | 6.416667                        | \n",
       "| 1                               | Matt Fish                       | MIA                             | 27                              | 210.82                          | 106.5941                        | North Carolina-Wilmington       | USA                             | 1992                            | 2                               |  6                              | 0.3                             | 0.8                             | 0.0                             | 1996-97                         | 6.916667                        | \n",
       "| 2                               | Matt Bullard                    | HOU                             | 30                              | 208.28                          | 106.5941                        | Iowa                            | USA                             | Undrafted                       | Undrafted                       | 71                              | 4.5                             | 1.6                             | 0.9                             | 1996-97                         | 6.833333                        | \n",
       "| 3                               | Marty Conlon                    | BOS                             | 29                              | 210.82                          | 111.1300                        | Providence                      | USA                             | Undrafted                       | Undrafted                       | 74                              | 7.8                             | 4.4                             | 1.4                             | 1996-97                         | 6.916667                        | \n",
       "| 4                               | Martin Muursepp                 | DAL                             | 22                              | 205.74                          | 106.5941                        | None                            | USA                             | 1996                            | 1                               | 42                              | 3.7                             | 1.6                             | 0.5                             | 1996-97                         | 6.750000                        | \n",
       "| 5                               | Martin Lewis                    | TOR                             | 22                              | 198.12                          | 102.0582                        | Seward County Community College | USA                             | 1995                            | 2                               |  9                              | 1.6                             | 0.7                             | 0.4                             | 1996-97                         | 6.500000                        | \n",
       "\n",
       "\n"
      ],
      "text/plain": [
       "  X player_name     team_abbreviation age player_height player_weight\n",
       "1 0 Chris Robinson  VAN               23  195.58         90.7184     \n",
       "2 1 Matt Fish       MIA               27  210.82        106.5941     \n",
       "3 2 Matt Bullard    HOU               30  208.28        106.5941     \n",
       "4 3 Marty Conlon    BOS               29  210.82        111.1300     \n",
       "5 4 Martin Muursepp DAL               22  205.74        106.5941     \n",
       "6 5 Martin Lewis    TOR               22  198.12        102.0582     \n",
       "  college                         country draft_year draft_round gp pts reb ast\n",
       "1 Western Kentucky                USA     1996       2           41 4.6 1.7 1.6\n",
       "2 North Carolina-Wilmington       USA     1992       2            6 0.3 0.8 0.0\n",
       "3 Iowa                            USA     Undrafted  Undrafted   71 4.5 1.6 0.9\n",
       "4 Providence                      USA     Undrafted  Undrafted   74 7.8 4.4 1.4\n",
       "5 None                            USA     1996       1           42 3.7 1.6 0.5\n",
       "6 Seward County Community College USA     1995       2            9 1.6 0.7 0.4\n",
       "  season  player_height_ft\n",
       "1 1996-97 6.416667        \n",
       "2 1996-97 6.916667        \n",
       "3 1996-97 6.833333        \n",
       "4 1996-97 6.916667        \n",
       "5 1996-97 6.750000        \n",
       "6 1996-97 6.500000        "
      ]
     },
     "metadata": {},
     "output_type": "display_data"
    }
   ],
   "source": [
    "nba <- nba %>%\n",
    "  mutate(player_height_ft = player_height/30.48)\n",
    "head(nba)"
   ]
  },
  {
   "cell_type": "markdown",
   "metadata": {},
   "source": [
    "#### Question 1"
   ]
  },
  {
   "cell_type": "markdown",
   "metadata": {},
   "source": [
    "Find the average player height in feet in the nba data set. "
   ]
  },
  {
   "cell_type": "code",
   "execution_count": 17,
   "metadata": {
    "collapsed": true
   },
   "outputs": [],
   "source": [
    "#your code here"
   ]
  },
  {
   "cell_type": "markdown",
   "metadata": {},
   "source": [
    "#### Instructions "
   ]
  },
  {
   "cell_type": "markdown",
   "metadata": {},
   "source": [
    "Now we will work on testing the argument that current NBA players are bigger and stronger than past NBA players by looking at the average player height in ft grouped by season. Let us use the group_by() function to group by season and the summarize function to find the mean height. Let's keep the name of the height column 'avgheight_ft'"
   ]
  },
  {
   "cell_type": "code",
   "execution_count": 21,
   "metadata": {
    "collapsed": false
   },
   "outputs": [
    {
     "data": {
      "text/html": [
       "<table>\n",
       "<thead><tr><th scope=col>season</th><th scope=col>avgheight_ft</th></tr></thead>\n",
       "<tbody>\n",
       "\t<tr><td>1996-97 </td><td>6.594319</td></tr>\n",
       "\t<tr><td>1997-98 </td><td>6.582005</td></tr>\n",
       "\t<tr><td>1998-99 </td><td>6.591306</td></tr>\n",
       "\t<tr><td>1999-00 </td><td>6.591895</td></tr>\n",
       "\t<tr><td>2000-01 </td><td>6.586357</td></tr>\n",
       "\t<tr><td>2001-02 </td><td>6.595076</td></tr>\n",
       "\t<tr><td>2002-03 </td><td>6.611565</td></tr>\n",
       "\t<tr><td>2003-04 </td><td>6.604827</td></tr>\n",
       "\t<tr><td>2004-05 </td><td>6.602550</td></tr>\n",
       "\t<tr><td>2005-06 </td><td>6.591885</td></tr>\n",
       "\t<tr><td>2006-07 </td><td>6.584789</td></tr>\n",
       "\t<tr><td>2007-08 </td><td>6.589616</td></tr>\n",
       "\t<tr><td>2008-09 </td><td>6.600936</td></tr>\n",
       "\t<tr><td>2009-10 </td><td>6.590121</td></tr>\n",
       "\t<tr><td>2010-11 </td><td>6.601401</td></tr>\n",
       "\t<tr><td>2011-12 </td><td>6.588738</td></tr>\n",
       "\t<tr><td>2012-13 </td><td>6.586709</td></tr>\n",
       "\t<tr><td>2013-14 </td><td>6.586791</td></tr>\n",
       "\t<tr><td>2014-15 </td><td>6.588996</td></tr>\n",
       "\t<tr><td>2015-16 </td><td>6.592787</td></tr>\n",
       "\t<tr><td>2016-17 </td><td>6.591564</td></tr>\n",
       "</tbody>\n",
       "</table>\n"
      ],
      "text/latex": [
       "\\begin{tabular}{r|ll}\n",
       " season & avgheight\\_ft\\\\\n",
       "\\hline\n",
       "\t 1996-97  & 6.594319\\\\\n",
       "\t 1997-98  & 6.582005\\\\\n",
       "\t 1998-99  & 6.591306\\\\\n",
       "\t 1999-00  & 6.591895\\\\\n",
       "\t 2000-01  & 6.586357\\\\\n",
       "\t 2001-02  & 6.595076\\\\\n",
       "\t 2002-03  & 6.611565\\\\\n",
       "\t 2003-04  & 6.604827\\\\\n",
       "\t 2004-05  & 6.602550\\\\\n",
       "\t 2005-06  & 6.591885\\\\\n",
       "\t 2006-07  & 6.584789\\\\\n",
       "\t 2007-08  & 6.589616\\\\\n",
       "\t 2008-09  & 6.600936\\\\\n",
       "\t 2009-10  & 6.590121\\\\\n",
       "\t 2010-11  & 6.601401\\\\\n",
       "\t 2011-12  & 6.588738\\\\\n",
       "\t 2012-13  & 6.586709\\\\\n",
       "\t 2013-14  & 6.586791\\\\\n",
       "\t 2014-15  & 6.588996\\\\\n",
       "\t 2015-16  & 6.592787\\\\\n",
       "\t 2016-17  & 6.591564\\\\\n",
       "\\end{tabular}\n"
      ],
      "text/markdown": [
       "\n",
       "season | avgheight_ft | \n",
       "|---|---|---|---|---|---|---|---|---|---|---|---|---|---|---|---|---|---|---|---|---|\n",
       "| 1996-97  | 6.594319 | \n",
       "| 1997-98  | 6.582005 | \n",
       "| 1998-99  | 6.591306 | \n",
       "| 1999-00  | 6.591895 | \n",
       "| 2000-01  | 6.586357 | \n",
       "| 2001-02  | 6.595076 | \n",
       "| 2002-03  | 6.611565 | \n",
       "| 2003-04  | 6.604827 | \n",
       "| 2004-05  | 6.602550 | \n",
       "| 2005-06  | 6.591885 | \n",
       "| 2006-07  | 6.584789 | \n",
       "| 2007-08  | 6.589616 | \n",
       "| 2008-09  | 6.600936 | \n",
       "| 2009-10  | 6.590121 | \n",
       "| 2010-11  | 6.601401 | \n",
       "| 2011-12  | 6.588738 | \n",
       "| 2012-13  | 6.586709 | \n",
       "| 2013-14  | 6.586791 | \n",
       "| 2014-15  | 6.588996 | \n",
       "| 2015-16  | 6.592787 | \n",
       "| 2016-17  | 6.591564 | \n",
       "\n",
       "\n"
      ],
      "text/plain": [
       "   season  avgheight_ft\n",
       "1  1996-97 6.594319    \n",
       "2  1997-98 6.582005    \n",
       "3  1998-99 6.591306    \n",
       "4  1999-00 6.591895    \n",
       "5  2000-01 6.586357    \n",
       "6  2001-02 6.595076    \n",
       "7  2002-03 6.611565    \n",
       "8  2003-04 6.604827    \n",
       "9  2004-05 6.602550    \n",
       "10 2005-06 6.591885    \n",
       "11 2006-07 6.584789    \n",
       "12 2007-08 6.589616    \n",
       "13 2008-09 6.600936    \n",
       "14 2009-10 6.590121    \n",
       "15 2010-11 6.601401    \n",
       "16 2011-12 6.588738    \n",
       "17 2012-13 6.586709    \n",
       "18 2013-14 6.586791    \n",
       "19 2014-15 6.588996    \n",
       "20 2015-16 6.592787    \n",
       "21 2016-17 6.591564    "
      ]
     },
     "metadata": {},
     "output_type": "display_data"
    }
   ],
   "source": [
    "nba %>% group_by(season) %>% summarize(avgheight_ft = mean(player_height_ft))"
   ]
  },
  {
   "cell_type": "markdown",
   "metadata": {},
   "source": [
    "What can you conclude about the average height by season?"
   ]
  },
  {
   "cell_type": "code",
   "execution_count": 21,
   "metadata": {
    "collapsed": true
   },
   "outputs": [],
   "source": [
    "#We can conclude that there is no visible trend in height that supports the claim in \n",
    "# the argument that players are bigger now than then. The average height by season stays close \n",
    "# to 6.6 for every season. Therefore we can conclude that the height of players has\n",
    "# been virtually the same since 1996-97 season."
   ]
  },
  {
   "cell_type": "markdown",
   "metadata": {},
   "source": [
    "For fun, let us look at the tallest and smallest player in feet to play over the 21 NBA seasons. Let us use the filter option to find the name of the tallest and smallest player once we find their height in feet."
   ]
  },
  {
   "cell_type": "code",
   "execution_count": 22,
   "metadata": {
    "collapsed": false
   },
   "outputs": [
    {
     "data": {
      "text/html": [
       "7.58333333333333"
      ],
      "text/latex": [
       "7.58333333333333"
      ],
      "text/markdown": [
       "7.58333333333333"
      ],
      "text/plain": [
       "[1] 7.583333"
      ]
     },
     "metadata": {},
     "output_type": "display_data"
    }
   ],
   "source": [
    "max(nba$player_height_ft)"
   ]
  },
  {
   "cell_type": "code",
   "execution_count": 23,
   "metadata": {
    "collapsed": false,
    "scrolled": true
   },
   "outputs": [
    {
     "data": {
      "text/html": [
       "<table>\n",
       "<thead><tr><th scope=col>X</th><th scope=col>player_name</th><th scope=col>team_abbreviation</th><th scope=col>age</th><th scope=col>player_height</th><th scope=col>player_weight</th><th scope=col>college</th><th scope=col>country</th><th scope=col>draft_year</th><th scope=col>draft_round</th><th scope=col>gp</th><th scope=col>pts</th><th scope=col>reb</th><th scope=col>ast</th><th scope=col>season</th><th scope=col>player_height_ft</th></tr></thead>\n",
       "<tbody>\n",
       "\t<tr><td> 344            </td><td>Gheorghe Muresan</td><td>WAS             </td><td>26              </td><td>231.14          </td><td>137.4384        </td><td>None            </td><td>USA             </td><td>1993            </td><td>2               </td><td>73              </td><td>10.6            </td><td>6.6             </td><td>0.4             </td><td>1996-97         </td><td>7.583333        </td></tr>\n",
       "\t<tr><td>1108            </td><td>Gheorghe Muresan</td><td>NJN             </td><td>28              </td><td>231.14          </td><td>137.4384        </td><td>None            </td><td>USA             </td><td>1993            </td><td>2               </td><td> 1              </td><td> 0.0            </td><td>0.0             </td><td>0.0             </td><td>1998-99         </td><td>7.583333        </td></tr>\n",
       "\t<tr><td>1490            </td><td>Gheorghe Muresan</td><td>NJN             </td><td>29              </td><td>231.14          </td><td>137.4384        </td><td>None            </td><td>USA             </td><td>1993            </td><td>2               </td><td>30              </td><td> 3.5            </td><td>2.3             </td><td>0.3             </td><td>1999-00         </td><td>7.583333        </td></tr>\n",
       "</tbody>\n",
       "</table>\n"
      ],
      "text/latex": [
       "\\begin{tabular}{r|llllllllllllllll}\n",
       " X & player\\_name & team\\_abbreviation & age & player\\_height & player\\_weight & college & country & draft\\_year & draft\\_round & gp & pts & reb & ast & season & player\\_height\\_ft\\\\\n",
       "\\hline\n",
       "\t  344             & Gheorghe Muresan & WAS              & 26               & 231.14           & 137.4384         & None             & USA              & 1993             & 2                & 73               & 10.6             & 6.6              & 0.4              & 1996-97          & 7.583333        \\\\\n",
       "\t 1108             & Gheorghe Muresan & NJN              & 28               & 231.14           & 137.4384         & None             & USA              & 1993             & 2                &  1               &  0.0             & 0.0              & 0.0              & 1998-99          & 7.583333        \\\\\n",
       "\t 1490             & Gheorghe Muresan & NJN              & 29               & 231.14           & 137.4384         & None             & USA              & 1993             & 2                & 30               &  3.5             & 2.3              & 0.3              & 1999-00          & 7.583333        \\\\\n",
       "\\end{tabular}\n"
      ],
      "text/markdown": [
       "\n",
       "X | player_name | team_abbreviation | age | player_height | player_weight | college | country | draft_year | draft_round | gp | pts | reb | ast | season | player_height_ft | \n",
       "|---|---|---|\n",
       "|  344             | Gheorghe Muresan | WAS              | 26               | 231.14           | 137.4384         | None             | USA              | 1993             | 2                | 73               | 10.6             | 6.6              | 0.4              | 1996-97          | 7.583333         | \n",
       "| 1108             | Gheorghe Muresan | NJN              | 28               | 231.14           | 137.4384         | None             | USA              | 1993             | 2                |  1               |  0.0             | 0.0              | 0.0              | 1998-99          | 7.583333         | \n",
       "| 1490             | Gheorghe Muresan | NJN              | 29               | 231.14           | 137.4384         | None             | USA              | 1993             | 2                | 30               |  3.5             | 2.3              | 0.3              | 1999-00          | 7.583333         | \n",
       "\n",
       "\n"
      ],
      "text/plain": [
       "  X    player_name      team_abbreviation age player_height player_weight\n",
       "1  344 Gheorghe Muresan WAS               26  231.14        137.4384     \n",
       "2 1108 Gheorghe Muresan NJN               28  231.14        137.4384     \n",
       "3 1490 Gheorghe Muresan NJN               29  231.14        137.4384     \n",
       "  college country draft_year draft_round gp pts  reb ast season \n",
       "1 None    USA     1993       2           73 10.6 6.6 0.4 1996-97\n",
       "2 None    USA     1993       2            1  0.0 0.0 0.0 1998-99\n",
       "3 None    USA     1993       2           30  3.5 2.3 0.3 1999-00\n",
       "  player_height_ft\n",
       "1 7.583333        \n",
       "2 7.583333        \n",
       "3 7.583333        "
      ]
     },
     "metadata": {},
     "output_type": "display_data"
    }
   ],
   "source": [
    "nba %>% filter(player_height_ft > 7.58)  #used > because error for '==' due to decimal count\n",
    "\n",
    "#tallest: Gheorghe Muresan @ 7.58ft"
   ]
  },
  {
   "cell_type": "markdown",
   "metadata": {},
   "source": [
    "#### Question 2"
   ]
  },
  {
   "cell_type": "markdown",
   "metadata": {},
   "source": [
    "Some may argue that height does not tell the whole story, so you decide to look into weight. On your own, analyze weight."
   ]
  },
  {
   "cell_type": "markdown",
   "metadata": {},
   "source": [
    "Look at the player_weight variable. We initially notice that the weight is kept in kilograms, which is difficult to visualize. Use the mutate function to create a new variable/column 'player_weight_lbs', which will be the player's weight in pounds.\n",
    "- Note: there are .453592kg per pound."
   ]
  },
  {
   "cell_type": "code",
   "execution_count": 24,
   "metadata": {
    "collapsed": true
   },
   "outputs": [],
   "source": [
    "#your code here\n"
   ]
  },
  {
   "cell_type": "markdown",
   "metadata": {},
   "source": [
    "#### Question 3"
   ]
  },
  {
   "cell_type": "markdown",
   "metadata": {},
   "source": [
    "Find the average player weight in pounds in the nba data set."
   ]
  },
  {
   "cell_type": "code",
   "execution_count": 27,
   "metadata": {
    "collapsed": true
   },
   "outputs": [],
   "source": [
    "#your code here\n"
   ]
  },
  {
   "cell_type": "markdown",
   "metadata": {},
   "source": [
    "#### Question 4"
   ]
  },
  {
   "cell_type": "markdown",
   "metadata": {},
   "source": [
    "Find the average weight in pounds by season. Use the group_by() function to group by season and the summarize function to find the mean weight. Let us keep the name of the weight column 'avgweight_lbs'. "
   ]
  },
  {
   "cell_type": "code",
   "execution_count": null,
   "metadata": {
    "collapsed": true
   },
   "outputs": [],
   "source": [
    "#your code here\n"
   ]
  },
  {
   "cell_type": "markdown",
   "metadata": {},
   "source": [
    "What can you conclude about average height by season in reference to the argument?"
   ]
  },
  {
   "cell_type": "code",
   "execution_count": 33,
   "metadata": {
    "collapsed": true
   },
   "outputs": [],
   "source": [
    "# Your conclusion here\n"
   ]
  },
  {
   "cell_type": "markdown",
   "metadata": {},
   "source": [
    "#### Question 5"
   ]
  },
  {
   "cell_type": "markdown",
   "metadata": {},
   "source": [
    "The argument is over. The hypothesis that NBA players are bigger now is not supported after looking at height and weight by season since 1996-97 season. However, you have that one friend that keeps insisting that the argument is valid. To prove him wrong, you decide to create a new variable called BMI to further prove the argument invalid."
   ]
  },
  {
   "cell_type": "markdown",
   "metadata": {},
   "source": [
    "Create a new variable/column called 'BMI' using the mutate function.\n",
    "- Note: BMI = (weight(lbs)/(height(in))^2) X 703."
   ]
  },
  {
   "cell_type": "code",
   "execution_count": 35,
   "metadata": {
    "collapsed": true
   },
   "outputs": [],
   "source": [
    "#your code here\n"
   ]
  },
  {
   "cell_type": "markdown",
   "metadata": {},
   "source": [
    "#### Question 6"
   ]
  },
  {
   "cell_type": "markdown",
   "metadata": {},
   "source": [
    "Now that you have calculated a BMI variable, find the average BMI by season. Use the group_by() function to group by season and the summarize function to find the mean BMI. Make the name of the BMI column 'avg_BMI'."
   ]
  },
  {
   "cell_type": "code",
   "execution_count": 37,
   "metadata": {
    "collapsed": true
   },
   "outputs": [],
   "source": [
    "#your code here\n"
   ]
  },
  {
   "cell_type": "markdown",
   "metadata": {},
   "source": [
    "What can you conclude about average BMI by season in reference to the argument?"
   ]
  },
  {
   "cell_type": "code",
   "execution_count": 39,
   "metadata": {
    "collapsed": true
   },
   "outputs": [],
   "source": [
    "# Your conclusion here\n"
   ]
  },
  {
   "cell_type": "markdown",
   "metadata": {},
   "source": [
    "# Problem 2"
   ]
  },
  {
   "cell_type": "markdown",
   "metadata": {},
   "source": [
    "The NBA is primarily made up of players from the United States, but the league is open to almost all countries. Many say the presence of foriegn players has grown over the years. For this we will compare the number of foreign players in the league in 1996-97 season to the 2016-17 season."
   ]
  },
  {
   "cell_type": "markdown",
   "metadata": {},
   "source": [
    "We will start by analyzing the 1996-97 season."
   ]
  },
  {
   "cell_type": "markdown",
   "metadata": {},
   "source": [
    "#### Instructions"
   ]
  },
  {
   "cell_type": "markdown",
   "metadata": {},
   "source": [
    "Group the number of players by country for the season of 1996-97. Use the filter() to select the 1996-97 season first."
   ]
  },
  {
   "cell_type": "code",
   "execution_count": 41,
   "metadata": {
    "collapsed": false
   },
   "outputs": [
    {
     "data": {
      "text/html": [
       "<table>\n",
       "<thead><tr><th scope=col>X</th><th scope=col>player_name</th><th scope=col>team_abbreviation</th><th scope=col>age</th><th scope=col>player_height</th><th scope=col>player_weight</th><th scope=col>college</th><th scope=col>country</th><th scope=col>draft_year</th><th scope=col>draft_round</th><th scope=col>gp</th><th scope=col>pts</th><th scope=col>reb</th><th scope=col>ast</th><th scope=col>season</th><th scope=col>player_height_ft</th><th scope=col>player_weight_lbs</th><th scope=col>BMI</th></tr></thead>\n",
       "<tbody>\n",
       "\t<tr><td>0                              </td><td>Chris Robinson                 </td><td>VAN                            </td><td>23                             </td><td>195.58                         </td><td> 90.7184                       </td><td>Western Kentucky               </td><td>USA                            </td><td>1996                           </td><td>2                              </td><td>41                             </td><td>4.6                            </td><td>1.7                            </td><td>1.6                            </td><td>1996-97                        </td><td>6.416667                       </td><td>200                            </td><td>23.71395                       </td></tr>\n",
       "\t<tr><td>1                              </td><td>Matt Fish                      </td><td>MIA                            </td><td>27                             </td><td>210.82                         </td><td>106.5941                       </td><td>North Carolina-Wilmington      </td><td>USA                            </td><td>1992                           </td><td>2                              </td><td> 6                             </td><td>0.3                            </td><td>0.8                            </td><td>0.0                            </td><td>1996-97                        </td><td>6.916667                       </td><td>235                            </td><td>23.98098                       </td></tr>\n",
       "\t<tr><td>2                              </td><td>Matt Bullard                   </td><td>HOU                            </td><td>30                             </td><td>208.28                         </td><td>106.5941                       </td><td>Iowa                           </td><td>USA                            </td><td>Undrafted                      </td><td>Undrafted                      </td><td>71                             </td><td>4.5                            </td><td>1.6                            </td><td>0.9                            </td><td>1996-97                        </td><td>6.833333                       </td><td>235                            </td><td>24.56945                       </td></tr>\n",
       "\t<tr><td>3                              </td><td>Marty Conlon                   </td><td>BOS                            </td><td>29                             </td><td>210.82                         </td><td>111.1300                       </td><td>Providence                     </td><td>USA                            </td><td>Undrafted                      </td><td>Undrafted                      </td><td>74                             </td><td>7.8                            </td><td>4.4                            </td><td>1.4                            </td><td>1996-97                        </td><td>6.916667                       </td><td>245                            </td><td>25.00145                       </td></tr>\n",
       "\t<tr><td>4                              </td><td>Martin Muursepp                </td><td>DAL                            </td><td>22                             </td><td>205.74                         </td><td>106.5941                       </td><td>None                           </td><td>USA                            </td><td>1996                           </td><td>1                              </td><td>42                             </td><td>3.7                            </td><td>1.6                            </td><td>0.5                            </td><td>1996-97                        </td><td>6.750000                       </td><td>235                            </td><td>25.17985                       </td></tr>\n",
       "\t<tr><td>5                              </td><td>Martin Lewis                   </td><td>TOR                            </td><td>22                             </td><td>198.12                         </td><td>102.0582                       </td><td>Seward County Community College</td><td>USA                            </td><td>1995                           </td><td>2                              </td><td> 9                             </td><td>1.6                            </td><td>0.7                            </td><td>0.4                            </td><td>1996-97                        </td><td>6.500000                       </td><td>225                            </td><td>25.99852                       </td></tr>\n",
       "</tbody>\n",
       "</table>\n"
      ],
      "text/latex": [
       "\\begin{tabular}{r|llllllllllllllllll}\n",
       " X & player\\_name & team\\_abbreviation & age & player\\_height & player\\_weight & college & country & draft\\_year & draft\\_round & gp & pts & reb & ast & season & player\\_height\\_ft & player\\_weight\\_lbs & BMI\\\\\n",
       "\\hline\n",
       "\t 0                               & Chris Robinson                  & VAN                             & 23                              & 195.58                          &  90.7184                        & Western Kentucky                & USA                             & 1996                            & 2                               & 41                              & 4.6                             & 1.7                             & 1.6                             & 1996-97                         & 6.416667                        & 200                             & 23.71395                       \\\\\n",
       "\t 1                               & Matt Fish                       & MIA                             & 27                              & 210.82                          & 106.5941                        & North Carolina-Wilmington       & USA                             & 1992                            & 2                               &  6                              & 0.3                             & 0.8                             & 0.0                             & 1996-97                         & 6.916667                        & 235                             & 23.98098                       \\\\\n",
       "\t 2                               & Matt Bullard                    & HOU                             & 30                              & 208.28                          & 106.5941                        & Iowa                            & USA                             & Undrafted                       & Undrafted                       & 71                              & 4.5                             & 1.6                             & 0.9                             & 1996-97                         & 6.833333                        & 235                             & 24.56945                       \\\\\n",
       "\t 3                               & Marty Conlon                    & BOS                             & 29                              & 210.82                          & 111.1300                        & Providence                      & USA                             & Undrafted                       & Undrafted                       & 74                              & 7.8                             & 4.4                             & 1.4                             & 1996-97                         & 6.916667                        & 245                             & 25.00145                       \\\\\n",
       "\t 4                               & Martin Muursepp                 & DAL                             & 22                              & 205.74                          & 106.5941                        & None                            & USA                             & 1996                            & 1                               & 42                              & 3.7                             & 1.6                             & 0.5                             & 1996-97                         & 6.750000                        & 235                             & 25.17985                       \\\\\n",
       "\t 5                               & Martin Lewis                    & TOR                             & 22                              & 198.12                          & 102.0582                        & Seward County Community College & USA                             & 1995                            & 2                               &  9                              & 1.6                             & 0.7                             & 0.4                             & 1996-97                         & 6.500000                        & 225                             & 25.99852                       \\\\\n",
       "\\end{tabular}\n"
      ],
      "text/markdown": [
       "\n",
       "X | player_name | team_abbreviation | age | player_height | player_weight | college | country | draft_year | draft_round | gp | pts | reb | ast | season | player_height_ft | player_weight_lbs | BMI | \n",
       "|---|---|---|---|---|---|\n",
       "| 0                               | Chris Robinson                  | VAN                             | 23                              | 195.58                          |  90.7184                        | Western Kentucky                | USA                             | 1996                            | 2                               | 41                              | 4.6                             | 1.7                             | 1.6                             | 1996-97                         | 6.416667                        | 200                             | 23.71395                        | \n",
       "| 1                               | Matt Fish                       | MIA                             | 27                              | 210.82                          | 106.5941                        | North Carolina-Wilmington       | USA                             | 1992                            | 2                               |  6                              | 0.3                             | 0.8                             | 0.0                             | 1996-97                         | 6.916667                        | 235                             | 23.98098                        | \n",
       "| 2                               | Matt Bullard                    | HOU                             | 30                              | 208.28                          | 106.5941                        | Iowa                            | USA                             | Undrafted                       | Undrafted                       | 71                              | 4.5                             | 1.6                             | 0.9                             | 1996-97                         | 6.833333                        | 235                             | 24.56945                        | \n",
       "| 3                               | Marty Conlon                    | BOS                             | 29                              | 210.82                          | 111.1300                        | Providence                      | USA                             | Undrafted                       | Undrafted                       | 74                              | 7.8                             | 4.4                             | 1.4                             | 1996-97                         | 6.916667                        | 245                             | 25.00145                        | \n",
       "| 4                               | Martin Muursepp                 | DAL                             | 22                              | 205.74                          | 106.5941                        | None                            | USA                             | 1996                            | 1                               | 42                              | 3.7                             | 1.6                             | 0.5                             | 1996-97                         | 6.750000                        | 235                             | 25.17985                        | \n",
       "| 5                               | Martin Lewis                    | TOR                             | 22                              | 198.12                          | 102.0582                        | Seward County Community College | USA                             | 1995                            | 2                               |  9                              | 1.6                             | 0.7                             | 0.4                             | 1996-97                         | 6.500000                        | 225                             | 25.99852                        | \n",
       "\n",
       "\n"
      ],
      "text/plain": [
       "  X player_name     team_abbreviation age player_height player_weight\n",
       "1 0 Chris Robinson  VAN               23  195.58         90.7184     \n",
       "2 1 Matt Fish       MIA               27  210.82        106.5941     \n",
       "3 2 Matt Bullard    HOU               30  208.28        106.5941     \n",
       "4 3 Marty Conlon    BOS               29  210.82        111.1300     \n",
       "5 4 Martin Muursepp DAL               22  205.74        106.5941     \n",
       "6 5 Martin Lewis    TOR               22  198.12        102.0582     \n",
       "  college                         country draft_year draft_round gp pts reb ast\n",
       "1 Western Kentucky                USA     1996       2           41 4.6 1.7 1.6\n",
       "2 North Carolina-Wilmington       USA     1992       2            6 0.3 0.8 0.0\n",
       "3 Iowa                            USA     Undrafted  Undrafted   71 4.5 1.6 0.9\n",
       "4 Providence                      USA     Undrafted  Undrafted   74 7.8 4.4 1.4\n",
       "5 None                            USA     1996       1           42 3.7 1.6 0.5\n",
       "6 Seward County Community College USA     1995       2            9 1.6 0.7 0.4\n",
       "  season  player_height_ft player_weight_lbs BMI     \n",
       "1 1996-97 6.416667         200               23.71395\n",
       "2 1996-97 6.916667         235               23.98098\n",
       "3 1996-97 6.833333         235               24.56945\n",
       "4 1996-97 6.916667         245               25.00145\n",
       "5 1996-97 6.750000         235               25.17985\n",
       "6 1996-97 6.500000         225               25.99852"
      ]
     },
     "metadata": {},
     "output_type": "display_data"
    }
   ],
   "source": [
    "season9697 = nba %>% filter(season == '1996-97')\n",
    "head(season9697)"
   ]
  },
  {
   "cell_type": "markdown",
   "metadata": {},
   "source": [
    "Now that we have our data from the 1996-97 season selected we can group the number of players by country for the season of 1996-97. Make the name of the number of players column 'numplayers'."
   ]
  },
  {
   "cell_type": "code",
   "execution_count": 42,
   "metadata": {
    "collapsed": false
   },
   "outputs": [
    {
     "data": {
      "text/html": [
       "<table>\n",
       "<thead><tr><th scope=col>country</th><th scope=col>numplayers</th></tr></thead>\n",
       "<tbody>\n",
       "\t<tr><td>USA                  </td><td>432                  </td></tr>\n",
       "\t<tr><td>Canada               </td><td>  2                  </td></tr>\n",
       "\t<tr><td>Congo                </td><td>  1                  </td></tr>\n",
       "\t<tr><td>Croatia              </td><td>  1                  </td></tr>\n",
       "\t<tr><td>Jamaica              </td><td>  1                  </td></tr>\n",
       "\t<tr><td>Lithuania            </td><td>  1                  </td></tr>\n",
       "\t<tr><td>Nigeria              </td><td>  1                  </td></tr>\n",
       "\t<tr><td>Serbia and Montenegro</td><td>  1                  </td></tr>\n",
       "\t<tr><td>Ukraine              </td><td>  1                  </td></tr>\n",
       "</tbody>\n",
       "</table>\n"
      ],
      "text/latex": [
       "\\begin{tabular}{r|ll}\n",
       " country & numplayers\\\\\n",
       "\\hline\n",
       "\t USA                   & 432                  \\\\\n",
       "\t Canada                &   2                  \\\\\n",
       "\t Congo                 &   1                  \\\\\n",
       "\t Croatia               &   1                  \\\\\n",
       "\t Jamaica               &   1                  \\\\\n",
       "\t Lithuania             &   1                  \\\\\n",
       "\t Nigeria               &   1                  \\\\\n",
       "\t Serbia and Montenegro &   1                  \\\\\n",
       "\t Ukraine               &   1                  \\\\\n",
       "\\end{tabular}\n"
      ],
      "text/markdown": [
       "\n",
       "country | numplayers | \n",
       "|---|---|---|---|---|---|---|---|---|\n",
       "| USA                   | 432                   | \n",
       "| Canada                |   2                   | \n",
       "| Congo                 |   1                   | \n",
       "| Croatia               |   1                   | \n",
       "| Jamaica               |   1                   | \n",
       "| Lithuania             |   1                   | \n",
       "| Nigeria               |   1                   | \n",
       "| Serbia and Montenegro |   1                   | \n",
       "| Ukraine               |   1                   | \n",
       "\n",
       "\n"
      ],
      "text/plain": [
       "  country               numplayers\n",
       "1 USA                   432       \n",
       "2 Canada                  2       \n",
       "3 Congo                   1       \n",
       "4 Croatia                 1       \n",
       "5 Jamaica                 1       \n",
       "6 Lithuania               1       \n",
       "7 Nigeria                 1       \n",
       "8 Serbia and Montenegro   1       \n",
       "9 Ukraine                 1       "
      ]
     },
     "metadata": {},
     "output_type": "display_data"
    }
   ],
   "source": [
    "season9697 %>% group_by(country) %>% summarize(numplayers = length(player_name)) %>% arrange(desc(numplayers))"
   ]
  },
  {
   "cell_type": "markdown",
   "metadata": {},
   "source": [
    "As you can see only 8 other countries had players in the nba combining for 9 total players in the 1996-97 season."
   ]
  },
  {
   "cell_type": "markdown",
   "metadata": {},
   "source": [
    "#### Question 1"
   ]
  },
  {
   "cell_type": "markdown",
   "metadata": {},
   "source": [
    "Filter a new data set, 'season1617' here and perform the head() function on it to check your new data set."
   ]
  },
  {
   "cell_type": "code",
   "execution_count": 45,
   "metadata": {
    "collapsed": true
   },
   "outputs": [],
   "source": [
    "#your code here\n"
   ]
  },
  {
   "cell_type": "markdown",
   "metadata": {},
   "source": [
    "#### Question 2"
   ]
  },
  {
   "cell_type": "markdown",
   "metadata": {},
   "source": [
    "Now that you have data from the 2016-17 season selected, we can group the number of players by country for the season of 2016-17. Make the name of the number of players column 'numplayers'. Use the arrange function to put your data in descending order."
   ]
  },
  {
   "cell_type": "code",
   "execution_count": 47,
   "metadata": {
    "collapsed": true
   },
   "outputs": [],
   "source": [
    "#your code here\n"
   ]
  },
  {
   "cell_type": "markdown",
   "metadata": {},
   "source": [
    "#### Question 3"
   ]
  },
  {
   "cell_type": "markdown",
   "metadata": {},
   "source": [
    "How many other countries participate in the NBA in the 2016-17 season? How does this compare to the 1996-97 season?"
   ]
  },
  {
   "cell_type": "code",
   "execution_count": 50,
   "metadata": {
    "collapsed": true
   },
   "outputs": [],
   "source": [
    "#your code here\n"
   ]
  },
  {
   "cell_type": "markdown",
   "metadata": {},
   "source": [
    "#### Question 4"
   ]
  },
  {
   "cell_type": "markdown",
   "metadata": {},
   "source": [
    "How many players are not from the USA in 2016-17 season? How does this compare to the 1996-97 season?"
   ]
  },
  {
   "cell_type": "code",
   "execution_count": 53,
   "metadata": {
    "collapsed": true
   },
   "outputs": [],
   "source": [
    "#your code here\n"
   ]
  },
  {
   "cell_type": "markdown",
   "metadata": {},
   "source": [
    "# Problem 3"
   ]
  },
  {
   "cell_type": "markdown",
   "metadata": {},
   "source": [
    "For problem 3, you are going to further explore the nba data set using the skills you learned above."
   ]
  },
  {
   "cell_type": "markdown",
   "metadata": {},
   "source": [
    "#### Question 1"
   ]
  },
  {
   "cell_type": "markdown",
   "metadata": {},
   "source": [
    "Find the average player pts in the nba data set."
   ]
  },
  {
   "cell_type": "code",
   "execution_count": 57,
   "metadata": {
    "collapsed": true
   },
   "outputs": [],
   "source": [
    "# your code here\n"
   ]
  },
  {
   "cell_type": "markdown",
   "metadata": {},
   "source": [
    "#### Question 2"
   ]
  },
  {
   "cell_type": "markdown",
   "metadata": {},
   "source": [
    "Group by player and find average points. Use that to find the player who has averaged the most points in the NBA data set. Make the column name 'avg_pts'."
   ]
  },
  {
   "cell_type": "code",
   "execution_count": 61,
   "metadata": {
    "collapsed": true
   },
   "outputs": [],
   "source": [
    "#your coder here\n"
   ]
  },
  {
   "cell_type": "markdown",
   "metadata": {},
   "source": [
    "#### Question 3"
   ]
  },
  {
   "cell_type": "markdown",
   "metadata": {},
   "source": [
    "Do the same for rebounds and assists. Group by player name to find average rebound and assist leaders in the nba data set."
   ]
  },
  {
   "cell_type": "code",
   "execution_count": 64,
   "metadata": {
    "collapsed": true
   },
   "outputs": [],
   "source": [
    "#rebounds\n",
    "#your code here\n"
   ]
  },
  {
   "cell_type": "code",
   "execution_count": 65,
   "metadata": {
    "collapsed": true
   },
   "outputs": [],
   "source": [
    "#assists\n",
    "#your code here\n"
   ]
  },
  {
   "cell_type": "markdown",
   "metadata": {},
   "source": [
    "#### Question 4"
   ]
  },
  {
   "cell_type": "markdown",
   "metadata": {},
   "source": [
    "Find out which 3 colleges have sent the most players to the NBA in the whole data set.\n",
    "- Note: Be careful how you summarize so that each indvidual player's college does not get counted more than once."
   ]
  },
  {
   "cell_type": "code",
   "execution_count": 66,
   "metadata": {
    "collapsed": true
   },
   "outputs": [],
   "source": [
    "#your code here\n"
   ]
  },
  {
   "cell_type": "markdown",
   "metadata": {},
   "source": [
    "#### Question 5"
   ]
  },
  {
   "cell_type": "markdown",
   "metadata": {},
   "source": [
    "Basketball is not as intense on the body as a sport like football. Therefore, many players find themselves in the league for multiple years. What is the average amount of seasons that an NBA player will play?"
   ]
  },
  {
   "cell_type": "code",
   "execution_count": 69,
   "metadata": {
    "collapsed": true
   },
   "outputs": [],
   "source": [
    "#your code here\n"
   ]
  },
  {
   "cell_type": "code",
   "execution_count": 70,
   "metadata": {
    "collapsed": true
   },
   "outputs": [],
   "source": [
    "#your code here\n"
   ]
  },
  {
   "cell_type": "markdown",
   "metadata": {},
   "source": [
    "<hr>\n",
    "#### For an .ipynb file of this lab follow<a href=\"https://github.com/anthonyiarussi/Introduction-to-Data-Science/tree/master/Student%20Labs/Labs%20.ipynb/Lab3\" target=\"_blank\">this link</a>.\n",
    "\n",
    "#### For a .Rmd file of this lab follow <a href=\"https://github.com/anthonyiarussi/Introduction-to-Data-Science\" target=\"_blank\">this link</a>.\n",
    "<hr>\n",
    "#### Go to the <a href=\"https://github.com/anthonyiarussi/Introduction-to-Data-Science\" target=\"_blank\">GitHub repository</a>, where you can download a copy of the lab for yourself!"
   ]
  }
 ],
 "metadata": {
  "kernelspec": {
   "display_name": "R",
   "language": "R",
   "name": "ir"
  },
  "language_info": {
   "codemirror_mode": "r",
   "file_extension": ".r",
   "mimetype": "text/x-r-source",
   "name": "R",
   "pygments_lexer": "r",
   "version": "3.3.2"
  }
 },
 "nbformat": 4,
 "nbformat_minor": 0
}
